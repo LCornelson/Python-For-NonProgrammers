{
 "cells": [
  {
   "cell_type": "code",
   "execution_count": 1,
   "metadata": {},
   "outputs": [],
   "source": [
    "# Loops!\n",
    "# For loops\n",
    "#    Looping over strings (every character)\n",
    "#    Looping a number of times (range)\n",
    "# While loops\n",
    "\n",
    "# DRY - Don't Repeat Yourself!\n",
    "\n",
    "# Loops in Python are protocols. They behave differently based on what type of collection is input - if you loop\n",
    "#   through a string, it will go character by character. If you loop through a file collection, it will go file by \n",
    "#   file. Because of this, you don't have to specify what the iteration is and the variable name is totally up to you.\n",
    "\n",
    "# Integers are not iterable in Python for some reason, so you have to use the Range function\n",
    "#   Eg \"for number in 5:\" will not work. You have to use \"for number in range(5):\"\n",
    "#   Range is from 0 until (and not including) the integer (ie Range(5) = 0,1,2,3,4)\n",
    "\n",
    "# You would use a While loop when you don't know exactly how many times you need to execute the code, but you \n",
    "#   do know that it should stop when certain conditions are met (eg so if your data is always being refreshed, a \n",
    "#   while loop will be much more useful). Could also be thought of as a \"whenever x happens\" loop\n",
    "\n",
    "# These words can be used in either For or While loops:\n",
    "#    \"break\"  --  exit the loop RIGHT NOW\n",
    "#    \"continue\"  --  exit the current iteration, continue to the next one"
   ]
  },
  {
   "cell_type": "code",
   "execution_count": 17,
   "metadata": {},
   "outputs": [
    {
     "name": "stdout",
     "output_type": "stream",
     "text": [
      "a\n",
      "b\n",
      "c\n"
     ]
    }
   ],
   "source": [
    "# For loops over strings\n",
    "\n",
    "s = \"abc\"\n",
    "\n",
    "for any_variable_name in s:\n",
    "    print(any_variable_name)\n"
   ]
  },
  {
   "cell_type": "code",
   "execution_count": 6,
   "metadata": {},
   "outputs": [
    {
     "name": "stdout",
     "output_type": "stream",
     "text": [
      "Enter a word: Elephant\n",
      "Elephant contains 3 vowels\n"
     ]
    }
   ],
   "source": [
    "# Let's count vowels in the user's input!\n",
    "\n",
    "count = 0\n",
    "ui = input(\"Enter a word: \").strip()\n",
    "\n",
    "for one_letter in ui:\n",
    "    if one_letter in 'AEIOUaeiou':\n",
    "        count += 1      # add 1 to the 'count' variable\n",
    "\n",
    "print(f\"{ui} contains {count} vowels\")"
   ]
  },
  {
   "cell_type": "code",
   "execution_count": 18,
   "metadata": {},
   "outputs": [
    {
     "name": "stdout",
     "output_type": "stream",
     "text": [
      "Enter a series of digits: 343h7337sh77\n",
      "Ignoring non-digit h\n",
      "Ignoring non-digit s\n",
      "Ignoring non-digit h\n",
      "The sum of these digits is: 44\n"
     ]
    }
   ],
   "source": [
    "# Ask the user to enter a word containing only digits. Sum the digits in that word. (ie '1234' would sum to 10)\n",
    "\n",
    "ui = input(\"Enter a series of digits: \").strip()\n",
    "answer = 0\n",
    "\n",
    "for digit in ui:\n",
    "    if digit.isdigit():\n",
    "        answer += int(digit)\n",
    "    else:\n",
    "        print(f\"Ignoring non-digit {digit}\")\n",
    "\n",
    "print(f\"The sum of these digits is: {answer}\")"
   ]
  },
  {
   "cell_type": "code",
   "execution_count": 19,
   "metadata": {},
   "outputs": [
    {
     "name": "stdout",
     "output_type": "stream",
     "text": [
      "Index is 0, character is a\n",
      "Index is 1, character is b\n",
      "Index is 2, character is c\n",
      "Index is 3, character is d\n",
      "Index is 4, character is e\n"
     ]
    }
   ],
   "source": [
    "s = \"abcde\"\n",
    "\n",
    "for index in range(len(s)):  # len is (index + 1), but range will only go until (index + 1) so it works together\n",
    "    print(f\"Index is {index}, character is {s[index]}\")"
   ]
  },
  {
   "cell_type": "code",
   "execution_count": 20,
   "metadata": {},
   "outputs": [
    {
     "name": "stdout",
     "output_type": "stream",
     "text": [
      "x is 5\n",
      "y is 5\n",
      "y is 4\n",
      "y is 3\n",
      "y is 2\n",
      "y is 1\n"
     ]
    }
   ],
   "source": [
    "# While loops are just like \"if\" statements, except that so long as  \n",
    "# the condition is True, the loop executes additional times.\n",
    "\n",
    "# Be careful not to get into an infinite loop! Always remember to reduce the count\n",
    "\n",
    "x = 5\n",
    "y = 5\n",
    "\n",
    "# \"if\" version\n",
    "if x > 0:\n",
    "    print(f'x is {x}')\n",
    "    x -= 1    # reduce x by 1\n",
    "    \n",
    "# \"while\" version\n",
    "while y > 0:\n",
    "    print(f\"y is {y}\")\n",
    "    y -= 1    # reduce y by 1"
   ]
  },
  {
   "cell_type": "code",
   "execution_count": 22,
   "metadata": {},
   "outputs": [
    {
     "name": "stdout",
     "output_type": "stream",
     "text": [
      "Start\n",
      "a\n",
      "b\n",
      "c\n",
      "End\n"
     ]
    }
   ],
   "source": [
    "# Break loop\n",
    "\n",
    "s = 'abcde'\n",
    "look_for = 'd'\n",
    "\n",
    "print(\"Start\")\n",
    "for one_letter in s:\n",
    "    if one_letter == look_for:\n",
    "        break       # end the loop and exit\n",
    "    print(one_letter)\n",
    "print(\"End\")"
   ]
  },
  {
   "cell_type": "code",
   "execution_count": 23,
   "metadata": {},
   "outputs": [
    {
     "name": "stdout",
     "output_type": "stream",
     "text": [
      "Start\n",
      "a\n",
      "b\n",
      "c\n",
      "e\n",
      "End\n"
     ]
    }
   ],
   "source": [
    "# Continue loop\n",
    "\n",
    "v = 'abcde'\n",
    "look_for = 'd'\n",
    "\n",
    "print(\"Start\")\n",
    "for one_letter in v:\n",
    "    if one_letter == look_for:\n",
    "        continue        # continue to the next value of one_letter\n",
    "    print(one_letter)\n",
    "print(\"End\")"
   ]
  },
  {
   "cell_type": "code",
   "execution_count": 24,
   "metadata": {},
   "outputs": [
    {
     "name": "stdout",
     "output_type": "stream",
     "text": [
      "Enter a number: 10\n",
      "Enter a number: 15\n",
      "Enter a number: 23\n",
      "Total is 48\n"
     ]
    }
   ],
   "source": [
    "total = 0\n",
    "\n",
    "for i in range(3):        # This limits to 3 numbers entered\n",
    "    n = input(\"Enter a number: \").strip()\n",
    "    if n.isdigit():\n",
    "        total += int(n)\n",
    "print(f\"Total is {total}\")"
   ]
  },
  {
   "cell_type": "code",
   "execution_count": 25,
   "metadata": {},
   "outputs": [
    {
     "name": "stdout",
     "output_type": "stream",
     "text": [
      "Enter a number: 10\n",
      "Enter a number: 234\n",
      "Enter a number: 34\n",
      "Enter a number: 234\n",
      "Enter a number: f\n",
      "Total = 512\n"
     ]
    }
   ],
   "source": [
    "total = 0\n",
    "\n",
    "while True:      # Infinite Loop, be very careful!!!\n",
    "    n = input(\"Enter a number: \").strip()\n",
    "    if n.isdigit():\n",
    "        total += int(n)\n",
    "    else:\n",
    "        break    # if we get a non-number, stop asking and leave the loop\n",
    "print(f\"Total = {total}\")"
   ]
  },
  {
   "cell_type": "code",
   "execution_count": 26,
   "metadata": {},
   "outputs": [
    {
     "name": "stdout",
     "output_type": "stream",
     "text": [
      "Enter a word: massage\n",
      "Enter a word: attempt\n",
      "Enter a word: indigenous\n",
      "Enter a word: papaya\n",
      "Enter a word: \n",
      "There are a total of 13 vowels in those words\n"
     ]
    }
   ],
   "source": [
    "# Write a program that asks the user to enter any number of words. When they enter an empty string, stop asking.\n",
    "# Print the number of vowels in all words entered.\n",
    "\n",
    "vowels = 0\n",
    "\n",
    "while True:\n",
    "    words = input(\"Enter a word: \").strip()\n",
    "    if words.isalpha():\n",
    "        for letters in words:\n",
    "            if letters in 'AEIOUaeiou':\n",
    "                vowels += 1\n",
    "    else:\n",
    "        break\n",
    "print(f\"There are a total of {vowels} vowels in those words\")"
   ]
  },
  {
   "cell_type": "code",
   "execution_count": 41,
   "metadata": {},
   "outputs": [
    {
     "name": "stdout",
     "output_type": "stream",
     "text": [
      "Please enter a sentence: The quick brown fox ate 12 owls!!!!\n",
      "Your sentence contains 8 vowels, 15 consonants, 2 digits, 6 spaces, and 4 other characters\n"
     ]
    }
   ],
   "source": [
    "# Homework Problem 1\n",
    "# Ask the user to enter a sentence. Print the number of vowels, digits, \n",
    "# and other characters that were in the user’s sentence.\n",
    "\n",
    "vowels = 0\n",
    "digits = 0\n",
    "consonants = 0\n",
    "other = 0\n",
    "spaces = 0\n",
    "\n",
    "sentence = input(\"Please enter a sentence: \").strip()\n",
    "\n",
    "for counter in sentence:\n",
    "    if counter in \"AEIOUaeiou\":     # alternatively: if counter.lower() in 'aeiou'\n",
    "        vowels += 1\n",
    "    elif counter.isdigit():\n",
    "        digits += 1\n",
    "    elif counter.lower() in \"bcdfghjklmnpqrstvwxyz\":\n",
    "        consonants += 1\n",
    "    elif counter == \" \":\n",
    "        spaces += 1\n",
    "    else:\n",
    "        other += 1\n",
    "\n",
    "print(f\"Your sentence contains {vowels} vowels, {consonants} consonants, {digits} digits, {spaces} spaces, \\\n",
    "and {other} other characters\")"
   ]
  },
  {
   "cell_type": "code",
   "execution_count": 38,
   "metadata": {},
   "outputs": [
    {
     "name": "stdout",
     "output_type": "stream",
     "text": [
      "Please enter your name: lindsay\n",
      "l\n",
      "li\n",
      "lin\n",
      "lind\n",
      "linds\n",
      "lindsa\n",
      "lindsay\n"
     ]
    }
   ],
   "source": [
    "# Homework Problem 2\n",
    "# Ask the user to enter their name. Print a “name triangle,” meaning: On the first line, \n",
    "# print just the first letter. Then on the second line, print the first two letters. Then on \n",
    "# the third line, print the first three letters… If the name is n letter long, then there \n",
    "# should be n lines, with the nth line printing the user’s name (as entered).\n",
    "\n",
    "name = input(\"Please enter your name: \").strip()\n",
    "index = 0\n",
    "\n",
    "for letter in name:\n",
    "    print(name[0:index + 1])\n",
    "    index +=1\n"
   ]
  },
  {
   "cell_type": "code",
   "execution_count": 39,
   "metadata": {},
   "outputs": [
    {
     "name": "stdout",
     "output_type": "stream",
     "text": [
      "Please enter a number: 12\n",
      "Please enter a number: 323\n",
      "Please enter a number: 23\n",
      "Please enter a number: 12\n",
      "Please enter a number: 45\n",
      "Please enter a number: 23\n",
      "Please enter a number: s\n",
      "That is not a number!\n",
      "Please enter a number: 3\n",
      "Please enter a number: \n",
      "The total sum of these numbers is 441\n"
     ]
    }
   ],
   "source": [
    "# Homework Problem 3\n",
    "# Ask the user, repeatedly, to enter numbers. If they enter an empty/blank string, \n",
    "# then stop asking and print the total. If the user enters a non-number, then scold them and ask again.\n",
    "\n",
    "sum = 0\n",
    "\n",
    "while True:\n",
    "    num = input(\"Please enter a number: \").strip()\n",
    "    if num == \"\":\n",
    "        break\n",
    "    elif num.isdigit():\n",
    "        sum += int(num)    \n",
    "    else:\n",
    "        print(\"That is not a number!\")\n",
    "\n",
    "print(f\"The total sum of these numbers is {sum}\")"
   ]
  },
  {
   "cell_type": "code",
   "execution_count": null,
   "metadata": {},
   "outputs": [],
   "source": []
  }
 ],
 "metadata": {
  "kernelspec": {
   "display_name": "Python 3",
   "language": "python",
   "name": "python3"
  },
  "language_info": {
   "codemirror_mode": {
    "name": "ipython",
    "version": 3
   },
   "file_extension": ".py",
   "mimetype": "text/x-python",
   "name": "python",
   "nbconvert_exporter": "python",
   "pygments_lexer": "ipython3",
   "version": "3.8.3"
  }
 },
 "nbformat": 4,
 "nbformat_minor": 4
}
