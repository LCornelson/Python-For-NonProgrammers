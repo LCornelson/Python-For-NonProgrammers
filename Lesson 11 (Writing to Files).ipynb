{
 "cells": [
  {
   "cell_type": "code",
   "execution_count": 1,
   "metadata": {},
   "outputs": [],
   "source": [
    "# Writing to Files                  # Files moved to /Users/lindsay/Python for Non-Programmers/Exercise Files\n",
    "\n",
    "# Files are uni-directional - you can either read it, or write to it. You do not do both at the same time.\n",
    "# In order to open a file that you will write to, you have to open it in 'write' mode.\n",
    "\n",
    "# To open a file in 'write' mode:\n",
    "#        myfile = open('file', 'w')    (second argument 'w' means: write mode)\n",
    "\n",
    "# When you open a file in write mode, you must remember two things: \n",
    "#     1) The file is opened for writing, and ALL PREVIOUS CONTENTS ARE ERASED!\n",
    "#     2) You get an exception/error that you cannot open the file for writing\n",
    "\n",
    "# To write to a file:\n",
    "#        myfile.write(\"abcde\\n\")    will write 6 characters to the file (\"\\n\" counts as 1 char)\n",
    "#        \"\\n\" is not automatically added by the write method, you have to do it yourself\n",
    "\n",
    "# When we write to a file, the OS actually writes that data to a memory 'buffer'. When the buffer fills up\n",
    "#    (every so often), the contents are 'flushed' to disk. This is because the computer is much faster that\n",
    "#    the disks it writes to, so it essentially collects data to write and then batches it to save time. You can \n",
    "#    use the 'flush' method  to force a flush...but don't do that very often. You don't know better than the OS.\n",
    "#    ----  myfile.flush()\n",
    "\n",
    "# Another way to force the data to be flushed is to close the file. When the file is closed, it automatically\n",
    "#    flushes. The problem with this is that you can't re-open the file without erasing it  ----   myfile.close()\n",
    "\n",
    "# A third (and best-practice) method is to write to the file in a 'with' block:\n",
    "#    with open('file') as myfile:\n",
    "#        myfile.write('aabbsscc\\n')\n",
    "#        myfile.write('eeddffuugg\\n')\n",
    "#        ...\n",
    "#        myfile.write('nnuuookkhh\\n')\n",
    "#\n",
    "#  This will automatically flush and close after the block completes, so you can control when the flush occurs.\n",
    "\n",
    "# You can also open a file in 'append' mode:    (you will just keep adding to the bottom)\n",
    "#        myfile = open('file', 'a') \n",
    "#  -or-  with open('file', 'a') as myfile: etc etc\n",
    "\n",
    "# There *is* a read-write mode ('r+'), but it is extremely easy to get lost and accidentally overwrite data\n",
    "\n",
    "# If you don't explicitly put a second argument with the method, it will default to 'r' ('read only')\n",
    "\n",
    "# You can pass a file argument to the Print function to have it print the output to a file instead of to \n",
    "#    the output log"
   ]
  },
  {
   "cell_type": "code",
   "execution_count": 12,
   "metadata": {},
   "outputs": [],
   "source": [
    "# Example 1: Reading from one file and writing to another (like creating a report based on one)\n",
    "\n",
    "with open('Exercise Files/ip-address-report.txt','w') as outfile:\n",
    "    for one_line in open('Exercise Files/mini-access-log.txt'):\n",
    "        ip_address = one_line.split()[0]\n",
    "        outfile.write(f'{ip_address}\\n')\n"
   ]
  },
  {
   "cell_type": "code",
   "execution_count": 14,
   "metadata": {},
   "outputs": [],
   "source": [
    "# You can also put the infile on the same 'with' line in order to make sure that both are flushed and closed\n",
    "#     simultaneously.\n",
    "\n",
    "with open('Exercise Files/ip-address-report.txt','w') as outfile, open('Exercise Files/mini-access-log.txt') as infile:\n",
    "    for one_line in infile:\n",
    "        ip_address = one_line.split()[0]\n",
    "        outfile.write(f'{ip_address}\\n')"
   ]
  },
  {
   "cell_type": "code",
   "execution_count": 17,
   "metadata": {},
   "outputs": [
    {
     "name": "stdout",
     "output_type": "stream",
     "text": [
      "67.218.116.165\r\n",
      "66.249.71.65\r\n",
      "65.55.106.183\r\n",
      "65.55.106.183\r\n",
      "66.249.71.65\r\n",
      "66.249.71.65\r\n",
      "66.249.65.12\r\n",
      "66.249.65.12\r\n",
      "66.249.65.12\r\n",
      "66.249.65.12\r\n"
     ]
    }
   ],
   "source": [
    "!head 'Exercise Files/ip-address-report.txt'"
   ]
  },
  {
   "cell_type": "code",
   "execution_count": 15,
   "metadata": {},
   "outputs": [],
   "source": [
    "# Example 2: Storing to a dictionary and writing it to a CSV file\n",
    "\n",
    "dic = {'a':1, 'b':2, 'c': 'car','d': 50}\n",
    "\n",
    "with open('Exercise Files/mydict.csv', 'w') as outfile:\n",
    "    for key, value in dic.items():\n",
    "        outfile.write(f'{key},{value}\\n')"
   ]
  },
  {
   "cell_type": "code",
   "execution_count": 21,
   "metadata": {},
   "outputs": [
    {
     "name": "stdout",
     "output_type": "stream",
     "text": [
      "Enter a number: 10\n"
     ]
    }
   ],
   "source": [
    "# Exercise 1:\n",
    "\n",
    "# Ask the user to enter a number. Read from 'nums.txt' and ignore blank lines. Write the line from 'nums.txt'\n",
    "#     to 'selected-nums.txt', only if the number is >= the number that the user gave.\n",
    "\n",
    "user_num = int(input(\"Enter a number: \"))\n",
    "\n",
    "with open('Exercise Files/selected-nums.txt', 'w') as outfile, open('Exercise Files/nums.txt') as infile:\n",
    "    for one_line in infile:\n",
    "        if one_line.strip() == '':     # ignore blank lines \n",
    "            continue\n",
    "        if int(one_line) < user_num:   # ignore numbers that are less than the input\n",
    "            continue\n",
    "            \n",
    "        outfile.write(one_line)        # one_line already includes the new line\n",
    "        \n",
    "# To clean it up, use outfile.write(f'{one_line.strip()}\\n')\n"
   ]
  },
  {
   "cell_type": "code",
   "execution_count": 22,
   "metadata": {},
   "outputs": [
    {
     "name": "stdout",
     "output_type": "stream",
     "text": [
      "\t10     \r\n",
      "\t20\r\n",
      "\t\t   \t20        \r\n",
      " 25\r\n"
     ]
    }
   ],
   "source": [
    "!cat 'Exercise Files/selected-nums.txt'"
   ]
  },
  {
   "cell_type": "code",
   "execution_count": 23,
   "metadata": {},
   "outputs": [],
   "source": [
    "# Printing to a new file instead of the output log\n",
    "\n",
    "print('Hello world',\n",
    "     file=open('Exercise Files/printoutput.txt', 'w'))"
   ]
  },
  {
   "cell_type": "code",
   "execution_count": 24,
   "metadata": {},
   "outputs": [
    {
     "name": "stdout",
     "output_type": "stream",
     "text": [
      "Hello world\r\n"
     ]
    }
   ],
   "source": [
    "!cat 'Exercise Files/printoutput.txt'"
   ]
  },
  {
   "cell_type": "code",
   "execution_count": 25,
   "metadata": {},
   "outputs": [
    {
     "name": "stdout",
     "output_type": "stream",
     "text": [
      "Enter a number: 4\n",
      "Enter a number: 56\n",
      "Enter a number: 34\n",
      "Enter a number: 23\n",
      "Enter a number: s\n"
     ]
    }
   ],
   "source": [
    "# Example 3: Sort data into different files based on criteria\n",
    "\n",
    "with open('Exercise Files/even-nums.txt', 'w') as even_file, open('Exercise Files/odd-nums.txt', 'w') as odd_file:\n",
    "    while True:\n",
    "        n = input(\"Enter a number: \").strip()\n",
    "        \n",
    "        if n == '':\n",
    "            break\n",
    "        \n",
    "        if not n.isdigit():\n",
    "            break\n",
    "        \n",
    "        n = int(n)\n",
    "        if n %2 == 1:     # odd number\n",
    "            print(f'{n}\\n', file=odd_file)\n",
    "        else:\n",
    "            print(f'{n}\\n', file=even_file)"
   ]
  },
  {
   "cell_type": "code",
   "execution_count": 26,
   "metadata": {},
   "outputs": [
    {
     "name": "stdout",
     "output_type": "stream",
     "text": [
      "23\r\n",
      "\r\n"
     ]
    }
   ],
   "source": [
    "!cat 'Exercise Files/odd-nums.txt'"
   ]
  },
  {
   "cell_type": "code",
   "execution_count": null,
   "metadata": {},
   "outputs": [],
   "source": [
    "# Homework Problem 1\n",
    "\n",
    "# Write a program that asks the user to enter sentences, one at a time. Stop asking when the user enters \n",
    "# an empty string. Write each word that the user entered on a separate line of a file, followed by a space \n",
    "# and the number of vowels that the user wrote.\n",
    "\n",
    "# So if the user enters ‘this is a test’ and ‘only kidding’, then the file should look like:\n",
    "\n",
    "# this 1\n",
    "# is 1\n",
    "# a 1\n",
    "# test 1\n",
    "# only 1\n",
    "# kidding 2\n",
    "\n",
    "\n"
   ]
  },
  {
   "cell_type": "code",
   "execution_count": null,
   "metadata": {},
   "outputs": [],
   "source": [
    "# Homework Problem 2\n",
    "\n",
    "# Let’s pretend that we’re creating a sales report for our company. Repeatedly ask the user to enter a \n",
    "# product name and a number of units sold. (The products and units don’t matter, but should be separated \n",
    "# by whitespace.) When the user enters a blank line, stop asking. Write this into a CSV-like file (i.e., \n",
    "# with a comma separating the two pieces of information). If the file has a csv extension, see if you can \n",
    "# open it with Excel on your computer."
   ]
  }
 ],
 "metadata": {
  "kernelspec": {
   "display_name": "Python 3",
   "language": "python",
   "name": "python3"
  },
  "language_info": {
   "codemirror_mode": {
    "name": "ipython",
    "version": 3
   },
   "file_extension": ".py",
   "mimetype": "text/x-python",
   "name": "python",
   "nbconvert_exporter": "python",
   "pygments_lexer": "ipython3",
   "version": "3.8.3"
  }
 },
 "nbformat": 4,
 "nbformat_minor": 4
}
