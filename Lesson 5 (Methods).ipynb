{
 "cells": [
  {
   "cell_type": "code",
   "execution_count": null,
   "metadata": {},
   "outputs": [],
   "source": [
    "# There are more methods than functions in Python\n",
    "# There are different, specialized methods for strings, numbers, lists, dictionaries, classes, etc. so when you\n",
    "#   start using new data types, you will also start using new methods.\n",
    "# In Jupyter, you can complete strings with appropriate methods by hitting the 'tab' key\n",
    "# Methods can be used as 'daisy-chains', with each one applied after the other\n",
    "\n",
    "# In this lesson, we will learn about:\n",
    "\n",
    "# Strip method \n",
    "#   - Returns a new string without the surrounding/outside whitespace (spaces, new lines, etc)\n",
    "#   - It does not change or reassign the variable, unless you explicity tell it to do so\n",
    "#   - There is no strip method for integers or true/false values\n",
    "\n",
    "# Lower/Upper/Capitalize/Swapcase methods\n",
    "#   - These methods can be used to change the case of the string\n",
    "#   - Useful for making sure that the user input matches the case formatting required in the code\n",
    "\n",
    "# Isdigit method\n",
    "#   - Allows you to check whether or not the variable can be turned into an integer (does it contain only digits)\n",
    "#   - This is useful for doing a check on the integrity of an input \n",
    "#   - ONLY CHECKS POSITIVE NUMBERS. Negative numbers will return False!!!!!\n",
    "\n",
    "# Replace method\n",
    "#   - Replaces any interior spaces (or other characters) that need to be changed\n",
    "#   - Can be used in conjunction with the strip method to remove outer spaces\n",
    "\n",
    "# Index method\n",
    "#   - Used to find out *where* one substring can be found within a larger string\n",
    "#   - It will always work from the left side, and return the first instance from the left\n",
    "#   - To find the first instance from the right, use \"rindex\"\n",
    "#   - If the substring doesn't exist, you will get an error\n",
    "#   - If you want to start the search within the string, you can tell it where to start/end looking (like slice)\n",
    "\n",
    "# Find method\n",
    "#   - If you want to find a substring like \"index\" but want error-handling\n",
    "#   - If the substring does not exist, it will return \"-1\" and not an error\n",
    "#   - This is useful for error handling, because if the \"-1\" gets returned, then you can print an error message "
   ]
  },
  {
   "cell_type": "code",
   "execution_count": null,
   "metadata": {},
   "outputs": [],
   "source": [
    "# Strip method\n",
    "\n",
    "name = \"             Lindsay             \"\n",
    "name.strip()            # will return 'Lindsay'\n",
    "name = name.strip()     # will reassign the variable called name to the shortened 'Lindsay'\n",
    "print(name)"
   ]
  },
  {
   "cell_type": "code",
   "execution_count": 1,
   "metadata": {},
   "outputs": [
    {
     "name": "stdout",
     "output_type": "stream",
     "text": [
      "lindsay\n",
      "Enter your name: LINDSAY\n",
      "lindsay\n"
     ]
    }
   ],
   "source": [
    "# Case methods\n",
    "\n",
    "# So this:\n",
    "name = 'LINDSAY'\n",
    "name = name.lower()\n",
    "print(name)\n",
    "\n",
    "# Is the same as this:\n",
    "name2 = input('Enter your name: ').lower()\n",
    "print(name2)\n",
    "             "
   ]
  },
  {
   "cell_type": "code",
   "execution_count": 3,
   "metadata": {},
   "outputs": [
    {
     "name": "stdout",
     "output_type": "stream",
     "text": [
      "Enter your name: Lindsay\n",
      "Enter the index number: dog\n",
      "dog is not an integer!\n"
     ]
    }
   ],
   "source": [
    "# isdigit method\n",
    "\n",
    "name = input(\"Enter your name: \")\n",
    "index = input(\"Enter the index number: \")\n",
    "\n",
    "if index.isdigit():\n",
    "    index = int(index)\n",
    "    print(f\"{name[index]} is the index\")\n",
    "else:\n",
    "    print(f\"{index} is not an integer!\")\n"
   ]
  },
  {
   "cell_type": "code",
   "execution_count": 4,
   "metadata": {},
   "outputs": [
    {
     "name": "stdout",
     "output_type": "stream",
     "text": [
      "abcdefg\n"
     ]
    }
   ],
   "source": [
    "# Replace method\n",
    "\n",
    "name = \"ab    c   def   g  \"\n",
    "newname = name.replace(\" \",\"\")\n",
    "print(newname)"
   ]
  },
  {
   "cell_type": "code",
   "execution_count": 11,
   "metadata": {},
   "outputs": [
    {
     "name": "stdout",
     "output_type": "stream",
     "text": [
      "Enter a number: cat\n",
      "Enter a second number: dog\n",
      "Neither entry contains an integer\n"
     ]
    }
   ],
   "source": [
    "# Ask the user to enter two numbers. If either input is not numeric (not int'able), then tell the user\n",
    "# which of those values was not good (or both).\n",
    "# If the values are int'able, then print their sum.\n",
    "\n",
    "number1 = input(\"Enter a number: \")\n",
    "number2 = input(\"Enter a second number: \")\n",
    "\n",
    "if number1.isdigit() and number2.isdigit():\n",
    "    number1 = int(number1)\n",
    "    number2 = int(number2)\n",
    "    print(f\"Sum = {number1 + number2}\")\n",
    "\n",
    "elif number1.isdigit(): \n",
    "    print(f\"Your second entry is not an integer\")\n",
    "\n",
    "elif number2.isdigit(): \n",
    "    print(f\"Your first entry is not an integer\")\n",
    "\n",
    "else:\n",
    "    print(f\"Neither entry contains an integer\")\n",
    "    \n",
    "# You can also say \"if not number1.isdigit()\" to get the opposite"
   ]
  },
  {
   "cell_type": "code",
   "execution_count": 17,
   "metadata": {},
   "outputs": [
    {
     "name": "stdout",
     "output_type": "stream",
     "text": [
      "1\n",
      "15\n"
     ]
    }
   ],
   "source": [
    "# Index method\n",
    "\n",
    "code = 'abcdefgabcedfgabcdefg'\n",
    "print(code.index(\"b\"))   # will return the first instance from the left \"1\"\n",
    "print(code.rindex(\"b\"))  # will return the first instance from the right \"15\"\n"
   ]
  },
  {
   "cell_type": "code",
   "execution_count": 18,
   "metadata": {},
   "outputs": [
    {
     "name": "stdout",
     "output_type": "stream",
     "text": [
      "2\n",
      "-1\n"
     ]
    }
   ],
   "source": [
    "# Find method\n",
    "\n",
    "code = \"abcdefg\"\n",
    "print(code.find(\"c\"))        # will return the first instance from the left \"2\"\n",
    "print(code.find(\"!\"))        # will return \"-1\""
   ]
  },
  {
   "cell_type": "code",
   "execution_count": 13,
   "metadata": {},
   "outputs": [
    {
     "name": "stdout",
     "output_type": "stream",
     "text": [
      "Please enter a string: lindsay\n",
      "Please enter a letter: l\n",
      "0\n",
      "li\n"
     ]
    }
   ],
   "source": [
    "# Homework Problem 1 \n",
    "# Ask the user to enter a string. Now ask the user to enter a letter. \n",
    "# Print the index at which that letter was found, as well as the one letter preceding \n",
    "# and the one letter following what was asked for. \n",
    "# For example, if the string is abcdefg and the user asks to find c, then the program \n",
    "# should print 2 (the index where c can be found), and the string bcd. \n",
    "# Note that the program should ignore any leading or trailing whitespace in the user’s input.\n",
    "\n",
    "user_entry1 = input(\"Please enter a string: \").strip()\n",
    "user_entry2 = input(\"Please enter a letter: \").strip()\n",
    "\n",
    "index = user_entry1.find(user_entry2)\n",
    "\n",
    "if index == -1:\n",
    "    print(f\"That letter is not in your string\")\n",
    "else:\n",
    "    if index > 0:\n",
    "        answer = user_entry1[index-1:index+2]\n",
    "        print(index)\n",
    "        print(answer)\n",
    "    else:\n",
    "        answer = user_entry1[index:index+2]\n",
    "        print(index)\n",
    "        print(answer)"
   ]
  },
  {
   "cell_type": "code",
   "execution_count": 20,
   "metadata": {},
   "outputs": [
    {
     "name": "stdout",
     "output_type": "stream",
     "text": [
      "Please enter a string: massage\n",
      "Please enter a number: d\n",
      "Please enter a second number: 3\n",
      "You have entered a non-number. Please enter a number!\n"
     ]
    }
   ],
   "source": [
    "# Homework Problem 2 \n",
    "# Ask the user to enter a string. Then ask the user to enter two numbers (as separate inputs). \n",
    "# Print the string from the first number to the second number, assuming that both are legitimate \n",
    "# indexes in the string. If the user gives non-numbers, then scold them. \n",
    "# If the user gives indexes that are negative or too high, scold them. \n",
    "# So if the user enters abcdefg and the numbers 3 and 5, then we should see de in the output, \n",
    "# since that’s from index 3 to index 5 (not including 5).\n",
    "\n",
    "user1 = input(\"Please enter a string: \").strip()\n",
    "num1 = input(\"Please enter a number: \").strip()\n",
    "num2 = input(\"Please enter a second number: \").strip()\n",
    "\n",
    "\n",
    "# Check for non-numeric and set num1 and num2 to integers\n",
    "if not num1.isalpha() and not num2.isalpha(): \n",
    "    num1 = int(num1)\n",
    "    num2 = int(num2)\n",
    "\n",
    "    # Check for negative numbers    \n",
    "    if num1 < 0 or num2 < 0:\n",
    "        if num1 < 0 and num2 > 0:\n",
    "            print(f\"{num1} is a negative number! You can't enter a negative number!\")\n",
    "        elif num1 >0 and num2 <0:\n",
    "            print(f\"{num2} is a negative number! You can't enter a negative number!\")\n",
    "        elif num1 < 0 and num2 < 0:\n",
    "            print(f\"Both {num1} and {num2} are a negative numbers! You can't enter negative numbers!\")\n",
    "    \n",
    "    # Check that the numbers are not too high    \n",
    "    elif num1 >= len(user1) or num2 >= len(user1) :\n",
    "        if num1 >= len(user1) and num2 < len(user1):\n",
    "            print(f\"{num1} is too large, please enter a smaller number!\")\n",
    "        elif num2 >= len(user1) and num1 < len(user1):\n",
    "            print(f\"{num2} is too large, please enter a smaller number!\")\n",
    "        elif num1 >= len(user1) and num2 >= len(user1):\n",
    "            print(f\"Both {num1} and {num2} are too large, please enter smaller numbers!\")\n",
    "\n",
    "    # Print desired string\n",
    "    else:\n",
    "        if num1 < num2:\n",
    "            print(f\"Here is the string: {user1[num1:num2]}\")\n",
    "        elif num1 > num2:\n",
    "            print(f\"Here is the string: {user1[num2:num1]}\")\n",
    "        else:\n",
    "            print(f\"Here is the string: {user1[num1]}\")\n",
    "\n",
    "else:\n",
    "    print(f\"You have entered a non-number. Please enter a number!\")"
   ]
  },
  {
   "cell_type": "code",
   "execution_count": null,
   "metadata": {},
   "outputs": [],
   "source": []
  },
  {
   "cell_type": "code",
   "execution_count": null,
   "metadata": {},
   "outputs": [],
   "source": []
  }
 ],
 "metadata": {
  "kernelspec": {
   "display_name": "Python 3",
   "language": "python",
   "name": "python3"
  },
  "language_info": {
   "codemirror_mode": {
    "name": "ipython",
    "version": 3
   },
   "file_extension": ".py",
   "mimetype": "text/x-python",
   "name": "python",
   "nbconvert_exporter": "python",
   "pygments_lexer": "ipython3",
   "version": "3.8.3"
  }
 },
 "nbformat": 4,
 "nbformat_minor": 4
}
