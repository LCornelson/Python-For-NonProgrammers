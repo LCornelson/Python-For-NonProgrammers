{
 "cells": [
  {
   "cell_type": "code",
   "execution_count": 1,
   "metadata": {},
   "outputs": [],
   "source": [
    "# Strings and Lists\n",
    "\n",
    "\n",
    "# The Split method always returns a list of strings. If you specify the delimiter, it will add all the characters \n",
    "#    within each delimited section as an element (as opposed to each character as an element itself). For example,\n",
    "#    var = \"abc,def,ghi\"  --  var.split(\",\") will return a list with elements [\"abc\", \"def\", \"ghi\"]\n",
    "#    This method is extremely useful to split up a sentence into component words in a list (with ' ' as delimiter).\n",
    "#    If you run Split with no arguments (var.split()), it will cut at any whitespace, no matter the length \n",
    "#    (so if there were multiple spaces between words or elements it won't matter).\n",
    "\n",
    "# The Join method is the reverse of the Split method - it will take a list and join the elements together into a \n",
    "#    string using a 'glue' of your choosing. It feels strange, because you run the method on the 'glue' and pass the\n",
    "#    list as the argument  --  \" \".join(list) will return those list elements in one string with spaces between them. \n",
    "#    You can use whatever you want as the glue - spaces, colons, '\\n' (new line), '\\t' (tabs), '*'.\n",
    "#    You can only join a list of strings together, not integers!\n",
    "\n",
    "# Sequences\n",
    "#    Types of sequences in Python: strings, lists, and tuples. \n",
    "#    Strings contain characters, and are immutable. They use quotes '' or double quotes \"\"\n",
    "#    Lists can contain anything, and they are mutable. They use square brackets []\n",
    "#    Tuples can contain anything (like a list), but they are immutable (like a string). They use parentheses ()\n",
    "#    We can use \"in\" to search within sequences, we can iterate over them with for loops, we can retrieve at\n",
    "#    one index, we can retrieve slices.\n",
    "\n",
    "# Tuples\n",
    "# Lists are supposed to be used when you have elements of the same type (all strings, all integers, etc). Tuples\n",
    "#    should be used when there are a variety of element types (these are conventions, not hard rules). Tuples are \n",
    "#    more memory-efficient than lists (which may be why they exist) because they are essentially \"locked lists\".\n",
    "#    There are only two methods that work on tuples: count and index. Because they are locked, you cannot use\n",
    "#    'replace' or other methods like it. You can convert a list to a tuple ( tuple(mylist) ) and you can\n",
    "#    convert a tuple to a list ( list(mytuple) ). Look below for 'tuple unpacking'."
   ]
  },
  {
   "cell_type": "code",
   "execution_count": 2,
   "metadata": {},
   "outputs": [
    {
     "name": "stdout",
     "output_type": "stream",
     "text": [
      "Enter your first and last name: Lindsay    Cornelson\n",
      "First name Lindsay, last name Cornelson\n"
     ]
    }
   ],
   "source": [
    "# Example of Split function:\n",
    "\n",
    "s = input(\"Enter your first and last name: \").strip()\n",
    "\n",
    "names = s.split()              # no arguments = delimiting at whitespace\n",
    "first_name = names[0]\n",
    "last_name = names[1]\n",
    "\n",
    "print(f\"First name {first_name}, last name {last_name}\")"
   ]
  },
  {
   "cell_type": "code",
   "execution_count": 6,
   "metadata": {},
   "outputs": [
    {
     "name": "stdout",
     "output_type": "stream",
     "text": [
      "Please enter a series of numbers separated by spaces: 12 78   343 82  23 5 26 92 100\n",
      "The total of these numbers is: 761\n"
     ]
    }
   ],
   "source": [
    "# Exercise 1\n",
    "\n",
    "# Ask the user to enter a bunch of numbers, separated by spaces. Total those numbers.\n",
    "\n",
    "ui = input(\"Please enter a series of numbers separated by spaces: \").strip()\n",
    "total = 0\n",
    "\n",
    "ui = ui.split()\n",
    "\n",
    "for one_number in ui:\n",
    "    if one_number.isdigit():\n",
    "        total += int(one_number)\n",
    "\n",
    "print(f\"The total of these numbers is: {total}\")"
   ]
  },
  {
   "cell_type": "code",
   "execution_count": 7,
   "metadata": {},
   "outputs": [
    {
     "data": {
      "text/plain": [
       "tuple"
      ]
     },
     "execution_count": 7,
     "metadata": {},
     "output_type": "execute_result"
    }
   ],
   "source": [
    "# Tuples\n",
    "\n",
    "type1 = \"abcdef123456\"\n",
    "type2 = ['abc', 'def']\n",
    "type3 = ('abc', 'def', 123, 456)\n",
    "\n",
    "type(type1)    \n",
    "type(type2)\n",
    "type(type3)"
   ]
  },
  {
   "cell_type": "code",
   "execution_count": 8,
   "metadata": {},
   "outputs": [
    {
     "data": {
      "text/plain": [
       "[10, 20, 30]"
      ]
     },
     "execution_count": 8,
     "metadata": {},
     "output_type": "execute_result"
    }
   ],
   "source": [
    "# Tuple unpacking  --  basically parallel assignment\n",
    "\n",
    "mylist = [10, 20, 30]\n",
    "\n",
    "x = mylist      \n",
    "x               # will return [10, 20, 30]\n",
    "\n",
    "x,y,z = mylist  # you can define a tuple with just commas, no parentheses\n",
    "x               # will return 10\n",
    "y               # will return 20\n",
    "z               # will return 30\n",
    "\n",
    "# If you try to unpack a list into a tuple with a different index, you will get an error. If the list has 3 elements,\n",
    "#    then your tuple needs to have 3 items"
   ]
  },
  {
   "cell_type": "code",
   "execution_count": 9,
   "metadata": {},
   "outputs": [],
   "source": [
    "# You could use tuple unpacking with the split method:\n",
    "\n",
    "name = \"Lindsay Cornelson\"\n",
    "first_name, last_name = name.split()"
   ]
  },
  {
   "cell_type": "code",
   "execution_count": 22,
   "metadata": {},
   "outputs": [
    {
     "name": "stdout",
     "output_type": "stream",
     "text": [
      "Please enter a sentence with no punctuation: the quick brown fox ate the owl\n",
      "Translation: hetay uickqay rownbay oxfay ateway hetay owlway\n"
     ]
    }
   ],
   "source": [
    "# Homework Problem 1\n",
    "# We have previously written a program that takes a single word from the user and translates it into \n",
    "# Pig Latin. I now want you to take an entire sentence from the user (all lower-case letters, and without \n",
    "# punctuation) and print the translation of each word into Pig Latin. So if the user enters this is a test, \n",
    "# the output will be histay isway away esttay.\n",
    "\n",
    "phrase = input(\"Please enter a sentence with no punctuation: \").strip()\n",
    "\n",
    "phrase_list = phrase.lower().split()  \n",
    "index = -1\n",
    "\n",
    "for one_word in phrase_list:          \n",
    "    index += 1\n",
    "\n",
    "    if one_word[0] in \"aeiou\":        \n",
    "        one_word = one_word + 'way'   \n",
    "    else:\n",
    "        one_word = one_word[1:] + one_word[0] + 'ay'\n",
    "\n",
    "    phrase_list[index] = one_word     \n",
    "\n",
    "new_list = \" \".join(phrase_list)\n",
    "\n",
    "print(f\"Translation: {new_list}\")\n",
    "\n",
    "\n",
    "# Alternate solutions:\n",
    "\n",
    "# Instead of creating an intermediate list (phrase_list), just do the loop directly on phrase.lower().split()\n",
    "\n",
    "# Instead of having an index and replacing the word in the phrase_list, add the new words directly to the new list.\n",
    "# \n",
    "#   new_list.append(f\"{one_word}way\")  or. new_list.append(f\"{one_word[1:]}{one_word[0]}ay\")\n",
    "#   print(' '.join(output))"
   ]
  },
  {
   "cell_type": "code",
   "execution_count": 1,
   "metadata": {},
   "outputs": [
    {
     "name": "stdout",
     "output_type": "stream",
     "text": [
      "Enter a sentence with no punctuation: A sentence with no punctuation\n",
      "A*sentence*with*no*punctuation\n"
     ]
    }
   ],
   "source": [
    "# Homework Problem 2\n",
    "# Ask the user to enter several words separated by whitespace. Print those words separated by * characters. \n",
    "# So if the user enters this is a test, the program should print this*is*a*test. You should not use str.replace, \n",
    "# but rather str.split and str.join\n",
    "\n",
    "phrase = input(\"Enter a sentence with no punctuation: \").strip()\n",
    "\n",
    "phrase_list = phrase.split()\n",
    "\n",
    "print(\"*\".join(phrase_list))\n",
    "\n",
    "# You can consolidate:  print(\"*\".join(phrase.split()))"
   ]
  },
  {
   "cell_type": "code",
   "execution_count": 2,
   "metadata": {},
   "outputs": [
    {
     "name": "stdout",
     "output_type": "stream",
     "text": [
      "Enter a series of numbers, separated by spaces: 23 54 76 4 car 33 98 47\n",
      "car is not a number!\n",
      "Even numbers: 54\n",
      "76\n",
      "4\n",
      "98\n",
      "Odd numbers: 23\n",
      "33\n",
      "47\n"
     ]
    }
   ],
   "source": [
    "# Homework Problem 3\n",
    "# Ask the user to enter numbers, separated by spaces, on a single line. Append each number to one of two lists, \n",
    "# evens or odds. Then print the even numbers, one per line (i.e., \\n characters between each) and then the odd \n",
    "# numbers, one per line. This will require not just str.join and str.split, but also some moving between int and \n",
    "# str, so you have been warned!\n",
    "\n",
    "numbers = input(\"Enter a series of numbers, separated by spaces: \").split()\n",
    "even_list = []\n",
    "odd_list = []\n",
    "\n",
    "for one_num in numbers:\n",
    "    if not one_num.isdigit():\n",
    "        print(f\"{one_num} is not a number!\")\n",
    "        continue\n",
    "    else:\n",
    "        if int(one_num) % 2 == 0:\n",
    "            even_list.append(one_num)\n",
    "        else:\n",
    "            odd_list.append(one_num)\n",
    "\n",
    "even_str = '\\n'.join(even_list)\n",
    "odd_str = '\\n'.join(odd_list)\n",
    "            \n",
    "print(f\"Even numbers: {even_str}\")\n",
    "print(f\"Odd numbers: {odd_str}\")\n",
    "\n",
    "# Remember that you can't use str.join on integers, so you couldn't just print these lists without turning the\n",
    "# numbers into strings first:\n",
    "#\n",
    "#      even_list.append(str(one_num))   and    odd_list.append(str(one_num))\n",
    "#      print('\\n'.join(even_list))    and    print('n\\'.join(odd_list))"
   ]
  },
  {
   "cell_type": "code",
   "execution_count": null,
   "metadata": {},
   "outputs": [],
   "source": []
  },
  {
   "cell_type": "code",
   "execution_count": null,
   "metadata": {},
   "outputs": [],
   "source": []
  },
  {
   "cell_type": "code",
   "execution_count": null,
   "metadata": {},
   "outputs": [],
   "source": []
  }
 ],
 "metadata": {
  "kernelspec": {
   "display_name": "Python 3",
   "language": "python",
   "name": "python3"
  },
  "language_info": {
   "codemirror_mode": {
    "name": "ipython",
    "version": 3
   },
   "file_extension": ".py",
   "mimetype": "text/x-python",
   "name": "python",
   "nbconvert_exporter": "python",
   "pygments_lexer": "ipython3",
   "version": "3.8.3"
  }
 },
 "nbformat": 4,
 "nbformat_minor": 4
}
