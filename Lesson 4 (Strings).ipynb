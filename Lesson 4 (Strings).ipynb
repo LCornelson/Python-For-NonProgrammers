{
 "cells": [
  {
   "cell_type": "code",
   "execution_count": null,
   "metadata": {},
   "outputs": [],
   "source": [
    "# Strings\n",
    "\n",
    "# To define a string, use either single or double quotation marks \n",
    "# Remember that the right side determines the left, not the other way around. \n",
    "# Another thing to remember is that strings are immutable/unchangeable. They can be reassigned, but never changed. \n",
    "#   That assignment is static, not dynamic. So if you assign y = x and then change x down the road, y does not \n",
    "#   change. Its value will remain whatever x was at the time y was assigned\n",
    "# The default for the input function is to return a string. If you want a number, you have to change it with int(var)\n",
    "# Python is case-sensitive, so 'a' =/= 'A'\n",
    "\n",
    "# Index:\n",
    "#    - To retrieve one character from inside a string, use variable[index] (it will return a string) \n",
    "#    - Don't forget that the index starts at 0! \n",
    "#    - Index begins the search from the left; to search from the right, use -1 (starts at -1, not 0)\n",
    "\n",
    "# Slice function\n",
    "#    - Used to return a portion of a string. Always LITTLE within BIG\n",
    "#    - Remember that it returns until (but not including) the last index number. So variable[2:7] will \n",
    "#         characters 3-7 \n",
    "#    - You can leave out the first index to start at the beginning (variable[:12]), or leave it out at the end to\n",
    "#         retun everything up to the end (useful if you don't know how many characters there are!)\n",
    "#    - The function is actually variable[start:end:step], but step defaults to 1. This means that \n",
    "#         you can increment the step if you only want to return every x characters\n",
    "#    - You cannot assign variables using the slice function\n",
    "\n",
    "# In\n",
    "#    - 'In' is an operator, just like < > + - = etc\n",
    "#    - Using 'In' will allow you to search for a specific combination of characters within the string"
   ]
  },
  {
   "cell_type": "code",
   "execution_count": 8,
   "metadata": {
    "scrolled": true
   },
   "outputs": [
    {
     "name": "stdout",
     "output_type": "stream",
     "text": [
      "Help on built-in function round in module builtins:\n",
      "\n",
      "round(number, ndigits=None)\n",
      "    Round a number to a given precision in decimal digits.\n",
      "    \n",
      "    The return value is an integer if ndigits is omitted or None.  Otherwise\n",
      "    the return value has the same type as the number.  ndigits may be negative.\n",
      "\n"
     ]
    }
   ],
   "source": [
    "help(round)"
   ]
  },
  {
   "cell_type": "code",
   "execution_count": 9,
   "metadata": {},
   "outputs": [
    {
     "data": {
      "text/plain": [
       "10.78"
      ]
     },
     "execution_count": 9,
     "metadata": {},
     "output_type": "execute_result"
    }
   ],
   "source": [
    "round(10.783465,2)"
   ]
  },
  {
   "cell_type": "code",
   "execution_count": 14,
   "metadata": {},
   "outputs": [
    {
     "data": {
      "text/plain": [
       "'q'"
      ]
     },
     "execution_count": 14,
     "metadata": {},
     "output_type": "execute_result"
    }
   ],
   "source": [
    "# To retrieve the nth character in the index position given of a string (don't forget that index starts at 0!)\n",
    "\n",
    "alphabet = \"abcdefghijklmnopqrstuvwxyz\"\n",
    "\n",
    "alphabet[10]   # will return the 11th character 'k'\n",
    "alphabet[0]    # will return the 1st character 'a'\n",
    "alphabet[16]   # will return the 17th character 'q'\n",
    "#alphabet[27]    will return an error"
   ]
  },
  {
   "cell_type": "code",
   "execution_count": 17,
   "metadata": {},
   "outputs": [
    {
     "data": {
      "text/plain": [
       "'uvwxyz'"
      ]
     },
     "execution_count": 17,
     "metadata": {},
     "output_type": "execute_result"
    }
   ],
   "source": [
    "# To return a whole substring, use a 'slice' (NOTE it does not include the last index, it is an outer boundary)\n",
    "\n",
    "alphabet = \"abcdefghijklmnopqrstuvwxyz\"\n",
    "\n",
    "alphabet[5:19]   # will return characters 6-19 'fghijklmnopqrs'\n",
    "alphabet[:4]     # will return characters 1-4 'abcd'\n",
    "alphabet[20:]    # will return characters 21-26 'uvwxyz'"
   ]
  },
  {
   "cell_type": "code",
   "execution_count": 20,
   "metadata": {},
   "outputs": [
    {
     "data": {
      "text/plain": [
       "'uy'"
      ]
     },
     "execution_count": 20,
     "metadata": {},
     "output_type": "execute_result"
    }
   ],
   "source": [
    "# To return a series of substrings, use a three-part slice [start:end:step]\n",
    "# The 'step' part defaults to 1, which is why we don't need to specify it in the whole substring slice\n",
    "\n",
    "alphabet = 'abcdefghijklmnopqrstuvwxyz'\n",
    "\n",
    "alphabet[3:18:2]   # will return every 2nd character between characters 4-18 'dfhjlnpr'\n",
    "alphabet[:10:3]    # will return every 3rd character between characters 1-10 'adgj'\n",
    "alphabet[20::4]    # will return every 4th character between characters 21-26 'uy'"
   ]
  },
  {
   "cell_type": "code",
   "execution_count": 23,
   "metadata": {},
   "outputs": [
    {
     "ename": "TypeError",
     "evalue": "'str' object does not support item assignment",
     "output_type": "error",
     "traceback": [
      "\u001b[0;31m---------------------------------------------------------------------------\u001b[0m",
      "\u001b[0;31mTypeError\u001b[0m                                 Traceback (most recent call last)",
      "\u001b[0;32m<ipython-input-23-a8b7789bacdc>\u001b[0m in \u001b[0;36m<module>\u001b[0;34m\u001b[0m\n\u001b[1;32m      4\u001b[0m \u001b[0;34m\u001b[0m\u001b[0m\n\u001b[1;32m      5\u001b[0m \u001b[0mname\u001b[0m\u001b[0;34m[\u001b[0m\u001b[0;36m0\u001b[0m\u001b[0;34m]\u001b[0m   \u001b[0;31m# will return 'L'\u001b[0m\u001b[0;34m\u001b[0m\u001b[0;34m\u001b[0m\u001b[0m\n\u001b[0;32m----> 6\u001b[0;31m \u001b[0mname\u001b[0m\u001b[0;34m[\u001b[0m\u001b[0;36m0\u001b[0m\u001b[0;34m]\u001b[0m \u001b[0;34m=\u001b[0m \u001b[0;34m\"Q\"\u001b[0m   \u001b[0;31m# will return an error\u001b[0m\u001b[0;34m\u001b[0m\u001b[0;34m\u001b[0m\u001b[0m\n\u001b[0m",
      "\u001b[0;31mTypeError\u001b[0m: 'str' object does not support item assignment"
     ]
    }
   ],
   "source": [
    "# You cannot use slices to assign variable values, you will get an error\n",
    "# Strings are immutable; they cannot be changed, ever. They can be reassigned, but not changed\n",
    "\n",
    "name = \"Lindsay\"\n",
    "\n",
    "name[0]   # will return 'L'\n",
    "name[0] = \"Q\"   # will return an error"
   ]
  },
  {
   "cell_type": "code",
   "execution_count": 25,
   "metadata": {},
   "outputs": [
    {
     "name": "stdout",
     "output_type": "stream",
     "text": [
      "abcdabcd\n"
     ]
    }
   ],
   "source": [
    "# Remember that in assignment, the right side always happens before the left\n",
    "# Also remember, that variables don't change, they are only reassigned\n",
    "# There is no going back to previous assignments, the old variable value is gone\n",
    "\n",
    "s = \"abcd\"\n",
    "\n",
    "s = s + s   # will return 'abcdabcd'. The variable s has been reassigned from 'abcd' to 'abcdabcd'\n",
    "\n",
    "print(s)"
   ]
  },
  {
   "cell_type": "code",
   "execution_count": 26,
   "metadata": {},
   "outputs": [
    {
     "name": "stdout",
     "output_type": "stream",
     "text": [
      "abcde\n"
     ]
    }
   ],
   "source": [
    "# Assignment is static, and needs to be updated \n",
    "# If you assign one variable the value of another variable, the assignment only happens once\n",
    "\n",
    "x = 'abcde'\n",
    "y = x      # y now has the value of 'abcde'\n",
    "\n",
    "x = 'fghi' # y still has the value of 'abcde'\n",
    "print(y)"
   ]
  },
  {
   "cell_type": "code",
   "execution_count": 31,
   "metadata": {},
   "outputs": [
    {
     "name": "stdout",
     "output_type": "stream",
     "text": [
      "Enter your name: Lindsay\n",
      "Enter a letter: I\n",
      "Sorry, I couldn't find I in Lindsay\n"
     ]
    }
   ],
   "source": [
    "# You can search for a substring within a larger string\n",
    "# Remember that Python is case sensitive!\n",
    "\n",
    "alphabet = \"abcdefghjklmnopqrstuvwxyz\"\n",
    "\n",
    "\"q\" in alphabet    # returns True\n",
    "\"qrs\" in alphabet  # returns True\n",
    "\"wdt\" in alphabet  # returns False\n",
    "\"W\" in alphabet    # returns False\n",
    "\n",
    "name = input(\"Enter your name: \")\n",
    "letter = input(\"Enter a letter: \")\n",
    "\n",
    "if letter in name:\n",
    "    print(f\"Yes, I found {letter} in {name}\")\n",
    "else:\n",
    "    print(f\"Sorry, I couldn't find {letter} in {name}\")\n",
    "          "
   ]
  },
  {
   "cell_type": "code",
   "execution_count": 34,
   "metadata": {},
   "outputs": [
    {
     "name": "stdout",
     "output_type": "stream",
     "text": [
      "Enter your name: Lindsay\n",
      "Enter a letter: M\n",
      "No, your name starts with L, not with the letter M\n"
     ]
    }
   ],
   "source": [
    "name = input(\"Enter your name: \")\n",
    "letter = input(\"Enter a letter: \")\n",
    "\n",
    "if letter == name[0]:\n",
    "    print(f\"Yes, your name starts with the letter {letter}!\")\n",
    "else:\n",
    "    print(f\"No, your name starts with {name[0]}, not with the letter {letter}\")\n"
   ]
  },
  {
   "cell_type": "code",
   "execution_count": 36,
   "metadata": {},
   "outputs": [
    {
     "name": "stdout",
     "output_type": "stream",
     "text": [
      "Enter your name: Monica\n",
      "Your name ends with the vowel a\n"
     ]
    }
   ],
   "source": [
    "# Ask the user to enter their name\n",
    "# Indicate if their name ends with a vowel (a, e, i ,o ,u)\n",
    "\n",
    "# Hint 1: Check the last letter with a negative index\n",
    "# Hint 2: Use 'in' to find out if the letter is a vowel\n",
    "\n",
    "name = input(\"Enter your name: \")\n",
    "vowel = \"aeiou\"\n",
    "\n",
    "if name[-1] in vowel:\n",
    "    print(f\"Your name ends with the vowel {name[-1]}\")\n",
    "else:\n",
    "    print(f\"Your name does not end with a vowel\")"
   ]
  },
  {
   "cell_type": "code",
   "execution_count": 1,
   "metadata": {},
   "outputs": [
    {
     "name": "stdout",
     "output_type": "stream",
     "text": [
      "Enter your name: Lindsay\n",
      "Enter a number: 4\n",
      "The letter that corresponds to that number is d\n"
     ]
    }
   ],
   "source": [
    "# Homework Problem 1\n",
    "# Ask the user to enter their name, and assign that to a variable called name.\n",
    "# Then ask the user to enter an integer, and assign that to a variable called index (assume it's a legal index).\n",
    "# Print the letter at that index.\n",
    "\n",
    "name = input(\"Enter your name: \")\n",
    "integer = input(\"Enter a number: \")\n",
    "index = int(integer) - 1\n",
    "\n",
    "print(f\"The letter that corresponds to that number is {name[index]}\")"
   ]
  },
  {
   "cell_type": "code",
   "execution_count": 2,
   "metadata": {},
   "outputs": [
    {
     "name": "stdout",
     "output_type": "stream",
     "text": [
      "Enter your name: Lindsay\n",
      "Enter a number: 20\n",
      "Please choose a number less than 7\n"
     ]
    }
   ],
   "source": [
    "# Homework Problem 2\n",
    "# Modify the above code so that you check whether that index is legal.\n",
    "# If the user enters a negative number, or a positive number that is too high, then scold them.\n",
    "# Otherwise, print the letter at that index.\n",
    "\n",
    "name = input(\"Enter your name: \")\n",
    "integer = input(\"Enter a number: \")\n",
    "index = int(integer) - 1\n",
    "\n",
    "if int(integer) < 1:\n",
    "    print(\"Please choose a number greater than 0.\")\n",
    "elif index > (len(name) - 1):\n",
    "    print(f\"Please choose a number less than {len(name)}\")\n",
    "else:\n",
    "    print(f\"The letter that corresponds to that number is {name[index]}\")"
   ]
  },
  {
   "cell_type": "code",
   "execution_count": 3,
   "metadata": {},
   "outputs": [
    {
     "name": "stdout",
     "output_type": "stream",
     "text": [
      "Please enter a word: papaya\n",
      "Pig Latin Translation: apayapay\n"
     ]
    }
   ],
   "source": [
    "# Homework Problem 3\n",
    "# Ask the user to enter a word, and assign it to the variable word. \n",
    "# Then print the translation of the word into Pig Latin.\n",
    "\n",
    "word = input(\"Please enter a word: \")\n",
    "vowel = 'aeiou'\n",
    "new_vowel = word + \"way\"\n",
    "new_cons = word[1:] + word[0] + \"ay\"\n",
    "\n",
    "if word[0] in vowel:\n",
    "    print(f\"Pig Latin Translation: {new_vowel}\")\n",
    "else:\n",
    "    print(f\"Pig Latin Translation: {new_cons}\")"
   ]
  },
  {
   "cell_type": "code",
   "execution_count": null,
   "metadata": {},
   "outputs": [],
   "source": []
  }
 ],
 "metadata": {
  "kernelspec": {
   "display_name": "Python 3",
   "language": "python",
   "name": "python3"
  },
  "language_info": {
   "codemirror_mode": {
    "name": "ipython",
    "version": 3
   },
   "file_extension": ".py",
   "mimetype": "text/x-python",
   "name": "python",
   "nbconvert_exporter": "python",
   "pygments_lexer": "ipython3",
   "version": "3.8.3"
  }
 },
 "nbformat": 4,
 "nbformat_minor": 4
}
