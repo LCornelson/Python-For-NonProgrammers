{
 "cells": [
  {
   "cell_type": "code",
   "execution_count": null,
   "metadata": {},
   "outputs": [],
   "source": []
  },
  {
   "cell_type": "code",
   "execution_count": 6,
   "metadata": {},
   "outputs": [
    {
     "data": {
      "text/plain": [
       "125907345345.345"
      ]
     },
     "execution_count": 6,
     "metadata": {},
     "output_type": "execute_result"
    }
   ],
   "source": [
    "number = 125907345345.345345\n",
    "round(number, 3)"
   ]
  },
  {
   "cell_type": "code",
   "execution_count": 3,
   "metadata": {},
   "outputs": [
    {
     "name": "stdout",
     "output_type": "stream",
     "text": [
      "Please enter your birth year: 1983\n",
      "You will turn 37 this year\n"
     ]
    }
   ],
   "source": [
    "# Homework Problem 1\n",
    "# Ask the user to enter their birth year. Tell the user how old they’ll turn this year. \n",
    "# (That avoids issues of whether the birthday has already passed.)\n",
    "\n",
    "birth_year = input(\"Please enter your birth year: \")\n",
    "age_this_year = 2020 - int(birth_year)\n",
    "\n",
    "print(f\"You will turn {age_this_year} this year\")"
   ]
  },
  {
   "cell_type": "code",
   "execution_count": 4,
   "metadata": {},
   "outputs": [
    {
     "name": "stdout",
     "output_type": "stream",
     "text": [
      "You are middle-aged, believe it or not\n"
     ]
    }
   ],
   "source": [
    "# Homework Problem 2\n",
    "# Add to this an if statement that says they’re young, old, or just right, based on their \n",
    "# age — and be gentle to those of us who aren’t as young as they used to be!\n",
    "\n",
    "if age_this_year < 18:\n",
    "    print(\"You are very young!\")\n",
    "elif age_this_year > 65:\n",
    "    print(\"You are amazing!\")\n",
    "else:\n",
    "    print(\"You are middle-aged, believe it or not\")"
   ]
  },
  {
   "cell_type": "code",
   "execution_count": 5,
   "metadata": {},
   "outputs": [
    {
     "name": "stdout",
     "output_type": "stream",
     "text": [
      "How far did you run? 100500\n",
      "How many minutes did it take you? 75\n",
      "You ran at a pace of 80400 meters per hour\n"
     ]
    }
   ],
   "source": [
    "# Homework Problem 3\n",
    "# Imagine a world in which people can go outside for a walk or a run. (I know, we’re fantasizing here.) \n",
    "# Have the user enter a distance they walked or run, and how many minutes it took them to go that far. \n",
    "# Tell them how fast they walk/run in meters per hour (or miles per hour, if you’re from that kind of country). \n",
    "# Note that the user is going to enter minutes, and you have to produce output per hour.\n",
    "\n",
    "distance = input(\"How far did you run? \")\n",
    "minutes = input(\"How many minutes did it take you? \")\n",
    "hours = float(minutes) / 60\n",
    "\n",
    "pace = round(float(distance) / hours)\n",
    "\n",
    "print(f\"You ran at a pace of {pace} meters per hour\")"
   ]
  },
  {
   "cell_type": "code",
   "execution_count": null,
   "metadata": {},
   "outputs": [],
   "source": []
  }
 ],
 "metadata": {
  "kernelspec": {
   "display_name": "Python 3",
   "language": "python",
   "name": "python3"
  },
  "language_info": {
   "codemirror_mode": {
    "name": "ipython",
    "version": 3
   },
   "file_extension": ".py",
   "mimetype": "text/x-python",
   "name": "python",
   "nbconvert_exporter": "python",
   "pygments_lexer": "ipython3",
   "version": "3.8.3"
  }
 },
 "nbformat": 4,
 "nbformat_minor": 4
}
