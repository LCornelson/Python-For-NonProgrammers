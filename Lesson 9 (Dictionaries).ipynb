{
 "cells": [
  {
   "cell_type": "code",
   "execution_count": 1,
   "metadata": {},
   "outputs": [],
   "source": [
    "# Dictionaries\n",
    "\n",
    "# Dictionaries are like lists, but we can use either integers or strings as the keys/indexes (so that we don't\n",
    "#   have to remember the index positions of specific types of data)\n",
    "\n",
    "# Dictionaries are defined with curly braces {}. Unlike with lists, which automatically start their index at 0,\n",
    "#   we have to essentially build our own 'index', aka key, from scratch. We do this by defining our key-value pairs,\n",
    "#   aka name-value pairs. You must enter both; you cannot enter a key/name without a value, or a value without a key.\n",
    "#   There can be as many key-value pairs as you want, there is no limit.\n",
    "\n",
    "# The keys are typically strings, integers, etc but the values can be anything at all  (even other dictionaries!) -  \n",
    "#   and they don't have to match the key. The key must be unique, there cannot be any duplicate keys in a \n",
    "#   single dictionary.\n",
    "\n",
    "# To retrieve the data stored in a dictionary, you basically write it like an index search: dictionary[key]. If you \n",
    "#   try to search for a non-existent key you will get an error\n",
    "\n",
    "# Like lists, dictionaries think in terms of their key elements: pairs. If you check the length of a dictionary,\n",
    "#   it will return the number of key-value pairs contained in the dictionary, not the total length of the values.\n",
    "\n",
    "# Searches of the dictionary are only against the keys, not the values. \n",
    "\n",
    "# Dictionaries are mutable - they can be changed. You can easily reassign the value by doing dict[key] = 'new_val' \n",
    "\n",
    "# To delete a key, you can use the list.pop method  --  dict.pop(key)  -- it will return the value and then remove\n",
    "#   the key from the dictionary.\n",
    "\n",
    "# Because of the hash functions behind the scenes, dictionaries are incredibly quick to search in and use up very\n",
    "#   little memory.\n",
    "\n",
    "# You can use dictionaries for a little database, for accumulation, for storing information during another function\n",
    "\n",
    "# If you iterate over a dictionary, you get the keys. \n",
    "\n",
    "# You cannot sort a dictionary itself, but you can do a 'sorted' function to return the keys in a sorted list (the\n",
    "#    dictionary order itself remains unchanged though)"
   ]
  },
  {
   "cell_type": "code",
   "execution_count": 2,
   "metadata": {},
   "outputs": [
    {
     "data": {
      "text/plain": [
       "'Cornelson'"
      ]
     },
     "execution_count": 2,
     "metadata": {},
     "output_type": "execute_result"
    }
   ],
   "source": [
    "# Key-Value entry\n",
    "\n",
    "dictionary = {'first': 'Lindsay', 'last':'Cornelson', 'age':37}\n",
    "\n",
    "dictionary['last']"
   ]
  },
  {
   "cell_type": "code",
   "execution_count": 3,
   "metadata": {},
   "outputs": [
    {
     "ename": "KeyError",
     "evalue": "'email'",
     "output_type": "error",
     "traceback": [
      "\u001b[0;31m---------------------------------------------------------------------------\u001b[0m",
      "\u001b[0;31mKeyError\u001b[0m                                  Traceback (most recent call last)",
      "\u001b[0;32m<ipython-input-3-bfdc2a37cc88>\u001b[0m in \u001b[0;36m<module>\u001b[0;34m\u001b[0m\n\u001b[0;32m----> 1\u001b[0;31m \u001b[0mdictionary\u001b[0m\u001b[0;34m[\u001b[0m\u001b[0;34m'email'\u001b[0m\u001b[0;34m]\u001b[0m\u001b[0;34m\u001b[0m\u001b[0;34m\u001b[0m\u001b[0m\n\u001b[0m",
      "\u001b[0;31mKeyError\u001b[0m: 'email'"
     ]
    }
   ],
   "source": [
    "# You cannot search for keys that are not in the dictionary\n",
    "\n",
    "dictionary['email']"
   ]
  },
  {
   "cell_type": "code",
   "execution_count": 4,
   "metadata": {},
   "outputs": [
    {
     "data": {
      "text/plain": [
       "True"
      ]
     },
     "execution_count": 4,
     "metadata": {},
     "output_type": "execute_result"
    }
   ],
   "source": [
    "# Searching in a dictionary  --  remember that you can only search on the keys!\n",
    "\n",
    "'Lindsay' in dictionary      # returns False\n",
    "'first' in dictionary        # returns True"
   ]
  },
  {
   "cell_type": "code",
   "execution_count": 11,
   "metadata": {},
   "outputs": [
    {
     "data": {
      "text/plain": [
       "{'a': 999, 'b': 250, 'c': [10, 20, 30]}"
      ]
     },
     "execution_count": 11,
     "metadata": {},
     "output_type": "execute_result"
    }
   ],
   "source": [
    "# Changing dictionaries\n",
    "\n",
    "d = {}                 # create empty dictionary\n",
    "d['a'] = 100           # add the key-value pair 'a': 100\n",
    "d['b'] = 250           # add the key-value pair 'b': 250\n",
    "d['c'] = [10, 20, 30]  # add the key-value pair 'c': [10, 20, 30]\n",
    "d['a'] = 999           # replace the value of key 'a' with 999\n",
    "d"
   ]
  },
  {
   "cell_type": "code",
   "execution_count": 12,
   "metadata": {},
   "outputs": [
    {
     "data": {
      "text/plain": [
       "{'a': 999, 'c': [10, 20, 30]}"
      ]
     },
     "execution_count": 12,
     "metadata": {},
     "output_type": "execute_result"
    }
   ],
   "source": [
    "# Deleting a key\n",
    "\n",
    "d.pop('b')     # returns the value (250)\n",
    "d"
   ]
  },
  {
   "cell_type": "code",
   "execution_count": 14,
   "metadata": {},
   "outputs": [
    {
     "name": "stdout",
     "output_type": "stream",
     "text": [
      "Please enter a country name: Canada\n",
      "No info for country Canada\n",
      "Please enter a country name: USA\n",
      "Code for USA is 1\n",
      "Please enter a country name: France\n",
      "No info for country France\n",
      "Please enter a country name: \n"
     ]
    }
   ],
   "source": [
    "# Example 1\n",
    "\n",
    "codes = {'USA':1, 'Israel':972, 'UK':44}\n",
    "\n",
    "while True:\n",
    "    country_name = input(\"Please enter a country name: \")\n",
    "    \n",
    "    if not country_name:        # meaning: blank country name? exit the loop!\n",
    "        break\n",
    "    \n",
    "    if country_name in codes:\n",
    "        print(f\"Code for {country_name} is {codes[country_name]}\") # remember that country_name is the key/index!\n",
    "        \n",
    "    else:\n",
    "        print(f\"No info for country {country_name}\")"
   ]
  },
  {
   "cell_type": "code",
   "execution_count": 15,
   "metadata": {},
   "outputs": [
    {
     "name": "stdout",
     "output_type": "stream",
     "text": [
      "Enter a number: 10\n",
      "Enter a number: 11\n",
      "Enter a number: 13\n",
      "Enter a number: 39\n",
      "Enter a number: 65\n",
      "Enter a number: 62\n",
      "Enter a number: 14\n",
      "Enter a number: \n",
      "{'evens': 3, 'odds': 4}\n"
     ]
    }
   ],
   "source": [
    "# Example 2: accumulation   --  instead of creating two integers to keep track of different counts, try a dictionary\n",
    "#   instead. If you wanted to keep track of the elements (and not just count), then make the key a list and add to it\n",
    "\n",
    "counts = {'evens':0, 'odds':0}\n",
    "\n",
    "while True:\n",
    "    n = input(\"Enter a number: \")\n",
    "\n",
    "    if not n:      # if empty/blank, then break\n",
    "        break\n",
    "        \n",
    "    if not n.isdigit():\n",
    "        print(f\"{n} is not an integer. Try again.\")\n",
    "        continue\n",
    "    \n",
    "    n = int(n)\n",
    "    \n",
    "    if n % 2 == 0:\n",
    "        counts['evens'] += 1\n",
    "    else:\n",
    "        counts['odds'] += 1\n",
    "\n",
    "print(counts)"
   ]
  },
  {
   "cell_type": "code",
   "execution_count": 17,
   "metadata": {},
   "outputs": [
    {
     "name": "stdout",
     "output_type": "stream",
     "text": [
      "Enter a string: this is a test\n",
      "{'t': 3, 'h': 1, 'i': 2, 's': 3, ' ': 3, 'a': 1, 'e': 1}\n"
     ]
    }
   ],
   "source": [
    "# Example 3: starting with an empty dictionary\n",
    "\n",
    "dic = {}          \n",
    "\n",
    "s = input(\"Enter a string: \").strip()\n",
    "\n",
    "for one_character in s:    # this is empty, so we can't simply += 1 to count from 0. We have to add a check first\n",
    "    if one_character in dic:\n",
    "        dic[one_character] += 1     # if we already have one_character in dic, we will add one to it\n",
    "    else:\n",
    "        dic[one_character] = 1      # if we don't have one already, then we will set it to one\n",
    "\n",
    "print(dic)\n",
    "\n",
    "\n",
    "# You can get a list and count of each type of variable/character/integer/whatever with this method"
   ]
  },
  {
   "cell_type": "code",
   "execution_count": 18,
   "metadata": {},
   "outputs": [
    {
     "name": "stdout",
     "output_type": "stream",
     "text": [
      "t\n",
      "h\n",
      "i\n",
      "s\n",
      " \n",
      "a\n",
      "e\n"
     ]
    }
   ],
   "source": [
    "# Example 4a: Iteration in a dictionary\n",
    "\n",
    "# Using the example above:\n",
    "\n",
    "for one_item in dic:     # iterating over a dictionary returns the keys only\n",
    "    print(one_item)"
   ]
  },
  {
   "cell_type": "code",
   "execution_count": 19,
   "metadata": {},
   "outputs": [
    {
     "name": "stdout",
     "output_type": "stream",
     "text": [
      "t: 3\n",
      "h: 1\n",
      "i: 2\n",
      "s: 3\n",
      " : 3\n",
      "a: 1\n",
      "e: 1\n"
     ]
    }
   ],
   "source": [
    "# Example 4b: the right way\n",
    "\n",
    "for key in dic:          # iterating using the key as an index\n",
    "    print(f\"{key}: {dic[key]}\")\n",
    "    \n",
    "# Python keeps the keys in the original order entered"
   ]
  },
  {
   "cell_type": "code",
   "execution_count": 20,
   "metadata": {},
   "outputs": [
    {
     "name": "stdout",
     "output_type": "stream",
     "text": [
      "('t', 3)\n",
      "('h', 1)\n",
      "('i', 2)\n",
      "('s', 3)\n",
      "(' ', 3)\n",
      "('a', 1)\n",
      "('e', 1)\n"
     ]
    }
   ],
   "source": [
    "# The 'items' method returns a key-value tuple with each iteration\n",
    "\n",
    "for one_thing in counts.items():\n",
    "    print(one_thing)"
   ]
  },
  {
   "cell_type": "code",
   "execution_count": 22,
   "metadata": {},
   "outputs": [
    {
     "name": "stdout",
     "output_type": "stream",
     "text": [
      "t: 3\n",
      "h: 1\n",
      "i: 2\n",
      "s: 3\n",
      " : 3\n",
      "a: 1\n",
      "e: 1\n"
     ]
    }
   ],
   "source": [
    "# You can combine the 'items' method and tuple unpacking to get a similar result to example 4b\n",
    "\n",
    "for key, value in counts.items():\n",
    "    print(f\"{key}: {value}\")"
   ]
  },
  {
   "cell_type": "code",
   "execution_count": 23,
   "metadata": {},
   "outputs": [
    {
     "data": {
      "text/plain": [
       "[' ', 'a', 'e', 'h', 'i', 's', 't']"
      ]
     },
     "execution_count": 23,
     "metadata": {},
     "output_type": "execute_result"
    }
   ],
   "source": [
    "# Sorting the dictionary keys (output only!)\n",
    "\n",
    "sorted(counts)      # returns the keys in ascending ascii order"
   ]
  },
  {
   "cell_type": "code",
   "execution_count": 29,
   "metadata": {},
   "outputs": [
    {
     "name": "stdout",
     "output_type": "stream",
     "text": [
      "Enter a sentence: this is test #313\n",
      "digits: 3\n",
      "vowels: 3\n",
      "consonants: 7\n",
      "other: 4\n"
     ]
    }
   ],
   "source": [
    "# Exercise 1\n",
    "\n",
    "# Ask the user to enter a sentence/word/whatever. Count how many a) digits, b) vowels, and c) other\n",
    "#   characters are in the user's input. Keep track of them in a dictionary. Print each count when you're done.\n",
    "\n",
    "sentence = input(\"Enter a sentence: \").strip()\n",
    "tracker = {'digits':0, 'vowels':0, 'consonants':0, 'other':0}   # this does not count as empty, so we can start \n",
    "                                                                #   counting right away (no need to test)\n",
    "for one_item in sentence.lower():\n",
    "        \n",
    "        if one_item.isdigit():\n",
    "            tracker['digits'] += 1\n",
    "            \n",
    "        elif one_item in \"aeiou\":\n",
    "            tracker['vowels'] += 1\n",
    "        \n",
    "        elif one_item in \"bcdfghjklmnpqrstvwxyz\":\n",
    "            tracker['consonants'] += 1\n",
    "\n",
    "        else:\n",
    "            tracker['other'] += 1\n",
    "\n",
    "for key, value in tracker.items():\n",
    "    print(f\"{key}: {value}\")\n"
   ]
  },
  {
   "cell_type": "code",
   "execution_count": 32,
   "metadata": {},
   "outputs": [
    {
     "name": "stdout",
     "output_type": "stream",
     "text": [
      "What would you like to order: chicken\n",
      "The price for chicken is $15.5. Your total is $15.5\n",
      "What would you like to order: fish\n",
      "The price for fish is $12.42. Your total is $27.92\n",
      "What would you like to order: salad\n",
      "The price for salad is $5.3. Your total is $33.22\n",
      "What would you like to order: beef\n",
      "The price for beef is $20.34. Your total is $53.56\n",
      "What would you like to order: drink\n",
      "drink is not on the menu tonight\n",
      "What would you like to order: vegetarian\n",
      "The price for vegetarian is $10.25. Your total is $63.81\n",
      "What would you like to order: \n",
      "The total for your order tonight is $63.81\n"
     ]
    }
   ],
   "source": [
    "# Homework Problem 1\n",
    "# Create a dictionary named menu, in which the keys are dishes at a restaurant and the values are prices. \n",
    "# Ask the user what they want to order, repeatedly, until they give an empty string. If their order is on the menu, \n",
    "# then print the price and the total so far. (I know, waiters never do this!) If their order is not on the menu, \n",
    "# tell them that it’s not available. When the loop exits (i.e., the order is done), give them the final total.\n",
    "\n",
    "menu = {'chicken':15.50, 'beef':20.34, 'fish':12.42, 'vegetarian': 10.25, 'salad': 5.30}\n",
    "total = 0.0\n",
    "\n",
    "while True:\n",
    "    order = input(\"What would you like to order: \").strip()\n",
    "    \n",
    "    if not order:\n",
    "        break\n",
    "    \n",
    "    if order in menu:\n",
    "        total += float(menu[order])\n",
    "        print(f\"The price for {order} is ${float(menu[order])}. Your total is ${round(total,2)}\")\n",
    "        \n",
    "    else:\n",
    "        print(f\"{order} is not on the menu tonight\")\n",
    "        continue\n",
    "\n",
    "print(f\"The total for your order tonight is ${round(total,2)}\")\n",
    "    "
   ]
  },
  {
   "cell_type": "code",
   "execution_count": 36,
   "metadata": {},
   "outputs": [
    {
     "name": "stdout",
     "output_type": "stream",
     "text": [
      "Please enter a word: cherry\n",
      "Please enter a word: melissa\n",
      "Please enter a word: 7864\n",
      "Please enter a word: kjhsdf 23 @@. ##\n",
      "Please enter a word: \n",
      "letter: 19\n",
      "number: 6\n",
      "spaces: 3\n",
      "symbol: 5\n"
     ]
    }
   ],
   "source": [
    "# Homework Problem 2\n",
    "# Ask the user to enter one word at a time. When the user enters an empty string (i.e., nothing), stop asking. \n",
    "# Use a dict to count how many times each character (letter, number, space, symbol) appears across all of the \n",
    "# user’s inputs.\n",
    "\n",
    "char_types = {'letter':0, 'number':0, 'spaces':0, 'symbol':0}\n",
    "\n",
    "while True:\n",
    "    user = input(\"Please enter a word: \").strip()\n",
    "    \n",
    "    if not user:\n",
    "        break\n",
    "    \n",
    "    for one_char in user:\n",
    "        if one_char.isalpha():\n",
    "            char_types['letter'] += 1\n",
    "        elif one_char.isdigit():\n",
    "            char_types['number'] += 1\n",
    "        elif one_char == \" \":\n",
    "            char_types['spaces'] += 1\n",
    "        else:\n",
    "            char_types['symbol'] += 1\n",
    "\n",
    "for key, value in char_types.items():\n",
    "    print(f\"{key}: {value}\")"
   ]
  }
 ],
 "metadata": {
  "kernelspec": {
   "display_name": "Python 3",
   "language": "python",
   "name": "python3"
  },
  "language_info": {
   "codemirror_mode": {
    "name": "ipython",
    "version": 3
   },
   "file_extension": ".py",
   "mimetype": "text/x-python",
   "name": "python",
   "nbconvert_exporter": "python",
   "pygments_lexer": "ipython3",
   "version": "3.8.3"
  }
 },
 "nbformat": 4,
 "nbformat_minor": 4
}
