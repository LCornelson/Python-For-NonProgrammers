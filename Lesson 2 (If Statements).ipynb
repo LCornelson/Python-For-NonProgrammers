{
 "cells": [
  {
   "cell_type": "code",
   "execution_count": 1,
   "metadata": {},
   "outputs": [],
   "source": [
    "# Homework Problem 1\n",
    "# Ask the user to enter two words, which you can put into two variables, \n",
    "# first and second. Use the < and > operators on the words to print out \n",
    "# which of the words comes earlier alphabetically, or if they are the same."
   ]
  },
  {
   "cell_type": "code",
   "execution_count": null,
   "metadata": {},
   "outputs": [],
   "source": [
    "# Homework Problem 2\n",
    "# Ask the user to enter a single letter. Indicate if the user has entered a vowel (a, e, i, o, or u) or not."
   ]
  }
 ],
 "metadata": {
  "kernelspec": {
   "display_name": "Python 3",
   "language": "python",
   "name": "python3"
  },
  "language_info": {
   "codemirror_mode": {
    "name": "ipython",
    "version": 3
   },
   "file_extension": ".py",
   "mimetype": "text/x-python",
   "name": "python",
   "nbconvert_exporter": "python",
   "pygments_lexer": "ipython3",
   "version": "3.8.3"
  }
 },
 "nbformat": 4,
 "nbformat_minor": 4
}
