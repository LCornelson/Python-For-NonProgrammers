{
 "cells": [
  {
   "cell_type": "code",
   "execution_count": 1,
   "metadata": {},
   "outputs": [],
   "source": [
    "# Lists\n",
    "\n",
    "# Strings contain characters. Lists are generic containers for other objects. \n",
    "# They can contain ANY NUMBER of ANY TYPE of objects.\n",
    "# A list is defined by square brackets and commas between elements  --  [one, two, three, ..., end]\n",
    "# To create a shell list to fill later, simply use empty brackets  -- mylist = []\n",
    "# So many of the same functions/methods that work on strings will also work on lists. Instead of characters,  \n",
    "#    there are elements.\n",
    "# Traditionally (but not exclusively) lists should only contain one type of value (only strings, only integers, etc)\n",
    "\n",
    "# An array can only contain one type of data, and are usually static in size\n",
    "# Where you would use arrays in other languages, you would use lists in Python\n",
    "\n",
    "# You can create a list using the List function  --  list(string), which will essentially run a for loop on each \n",
    "#    character in the string and add it as an element in the list.\n",
    "\n",
    "# You can retrieve elements from lists via index or slices, with 0 being the first element (like strings!)\n",
    "# Even if those elements are comprised of smaller elements, the list only contains the 'big elements'\n",
    "\n",
    "# Strings are immutable and cannot be changed (s[0] = '!' gives an error)\n",
    "# Lists are mutable and changeable (mylist[0] = '!' is valid and will change element index 0 to be '!')\n",
    "\n",
    "# You can change the size of the list with variable.append()\n",
    "# You can change the order of the list with variable.sort() or variable.sort(reverse=True)\n",
    "# You can remove items based on value or on location\n",
    "# You can add multiple items to the list\n",
    "\n",
    "# Remember that mylist = biglist[0] = biglist[1] = biglist[3], so if you change ANY element in ANY list\n",
    "#    that element will change in all of those lists. It goes backwards and forwards...very dangerous.\n",
    "\n",
    "# If you create an alias of a list, that alias will change exactly the same way that the list does (see \n",
    "#    above.) If you want to create an unchangeable/static version of the list, you have to copy it first,\n",
    "#    and then it becomes like the string variable y that was assigned to x.\n",
    "\n",
    "# You can use the 'sorted' function to return a sorted list (always a list) for the elements in a list or a string\n",
    "#    without actually changing the order of those elements/characters in the list/variable"
   ]
  },
  {
   "cell_type": "code",
   "execution_count": 11,
   "metadata": {},
   "outputs": [
    {
     "name": "stdout",
     "output_type": "stream",
     "text": [
      "[[10, 20, 30, 40], [10, 20, 30, 40], [10, 20, 30, 40]]\n"
     ]
    }
   ],
   "source": [
    "mylist = [10, 20, 30, 40]\n",
    "\n",
    "biglist = [mylist, mylist, mylist]\n",
    "\n",
    "print(biglist)\n",
    "\n",
    "# Will return [[10, 20, 30, 40], [10, 20, 30, 40], [10, 20, 30, 40]], but still only 4 elements.\n",
    "# Each of the big elements is an alias for the small elements"
   ]
  },
  {
   "cell_type": "code",
   "execution_count": 12,
   "metadata": {},
   "outputs": [
    {
     "name": "stdout",
     "output_type": "stream",
     "text": [
      "[['!', 20, 30, 40], ['!', 20, 30, 40], ['!', 20, 30, 40]]\n"
     ]
    }
   ],
   "source": [
    "mylist[0] = '!'\n",
    "\n",
    "print(biglist)\n",
    "\n",
    "# Will return [['!', 20, 30, 40], ['!', 20, 30, 40], ['!', 20, 30, 40]] because the index 0\n",
    "#     element was changed"
   ]
  },
  {
   "cell_type": "code",
   "execution_count": 13,
   "metadata": {},
   "outputs": [
    {
     "name": "stdout",
     "output_type": "stream",
     "text": [
      "['!', 20, 30, 40, 7]\n"
     ]
    }
   ],
   "source": [
    "# You can append data to a list to grow it\n",
    "\n",
    "mylist.append(7)    # meaning add the integer 7 to the end of mylist\n",
    "\n",
    "print(mylist)"
   ]
  },
  {
   "cell_type": "code",
   "execution_count": 14,
   "metadata": {},
   "outputs": [
    {
     "name": "stdout",
     "output_type": "stream",
     "text": [
      "[7, 19, 20, 30, 40]\n"
     ]
    }
   ],
   "source": [
    "# You can sort the list\n",
    "\n",
    "mylist[0] = 19      # to get rid of the '!' which won't sort like an integer\n",
    "mylist.sort()\n",
    "\n",
    "print(mylist)"
   ]
  },
  {
   "cell_type": "code",
   "execution_count": 15,
   "metadata": {},
   "outputs": [
    {
     "name": "stdout",
     "output_type": "stream",
     "text": [
      "[40, 30, 20, 19, 7]\n"
     ]
    }
   ],
   "source": [
    "# You can sort the list backwards\n",
    "\n",
    "mylist.sort(reverse=True)\n",
    "\n",
    "print(mylist)"
   ]
  },
  {
   "cell_type": "code",
   "execution_count": 17,
   "metadata": {},
   "outputs": [
    {
     "name": "stdout",
     "output_type": "stream",
     "text": [
      "[40, 30, 20, 19, 7]\n",
      "[[40, 30, 20, 19, 7], [40, 30, 20, 19, 7], [40, 30, 20, 19, 7]]\n",
      "[40, 'f', 20, 19, 7]\n",
      "[[40, 'f', 20, 19, 7], [40, 'f', 20, 19, 7], [40, 'f', 20, 19, 7]]\n"
     ]
    }
   ],
   "source": [
    "# mylist == biglist[0] == biglist[1] == biglist[2]\n",
    "\n",
    "# So if you change an element within biglist, you will also be changing it within mylist... BE CAREFUL\n",
    "\n",
    "print(mylist)     # [40, 30, 20, 19, 7]\n",
    "print(biglist)    # [[40, 30, 20, 19, 7], [40, 30, 20, 19, 7], [40, 30, 20, 19, 7]]\n",
    "\n",
    "biglist[1][1] = 'f'\n",
    "\n",
    "print(mylist)     # [40, 'f', 20, 19, 7]\n",
    "print(biglist)    # [[40, 'f', 20, 19, 7], [40, 'f', 20, 19, 7], [40, 'f', 20, 19, 7]]"
   ]
  },
  {
   "cell_type": "code",
   "execution_count": 30,
   "metadata": {},
   "outputs": [
    {
     "name": "stdout",
     "output_type": "stream",
     "text": [
      "The sum of the numbers in mylist is 155\n",
      "The mean/average is 22.142857142857142\n"
     ]
    }
   ],
   "source": [
    "# Exercise 1\n",
    "\n",
    "# Create a list containing several integers. Use a 'for' loop to iterate over the list, totalling the numbers.\n",
    "# Print the total and mean/average  *Hint: len(mylist) returns the length\n",
    "\n",
    "mylist = [3, 65, 9, 32, 6, 28, 12]\n",
    "sum1 = 0\n",
    "\n",
    "for each in mylist:\n",
    "    sum1 += each\n",
    "\n",
    "mean = sum1 / len(mylist)\n",
    "\n",
    "print(f\"The sum of the numbers in mylist is {sum1}\")\n",
    "print(f\"The mean/average is {mean}\")"
   ]
  },
  {
   "cell_type": "code",
   "execution_count": 20,
   "metadata": {},
   "outputs": [
    {
     "name": "stdout",
     "output_type": "stream",
     "text": [
      "Average filename length is 10.576576576576576\n"
     ]
    }
   ],
   "source": [
    "# Determine the average filename length in an OS directory called '/etc/'\n",
    "\n",
    "import os       # use the 'operating system' module in Python\n",
    "\n",
    "lengths = [ ]   # create a shell list\n",
    "for one_filename in os.listdir('/etc/'):\n",
    "    lengths.append(len(one_filename))\n",
    "\n",
    "total = 0       # iterate over the list to get the total length\n",
    "for one_length in lengths:\n",
    "    total += one_length\n",
    "    \n",
    "print(f'Average filename length is {total/len(lengths)}')   \n",
    "\n",
    "# This is an exercise for lists, but a better way to find the sum would be the sum function:\n",
    "#     no need for total, just skip directly to printing '...length is {sum(lengths)/len(lengths)}'"
   ]
  },
  {
   "cell_type": "code",
   "execution_count": 32,
   "metadata": {},
   "outputs": [
    {
     "name": "stdout",
     "output_type": "stream",
     "text": [
      "Enter a word: lake\n",
      "Enter a word: tree\n",
      "Enter a word: elephant\n",
      "Enter a word: \n",
      "The average length of the words you entered is: 5.333333333333333\n"
     ]
    }
   ],
   "source": [
    "# Exercise 2\n",
    "# Ask the user to enter a bunch of words, one at a time. If the user enters an empty string, stop asking.\n",
    "# Print the average length of the words they gave.\n",
    "\n",
    "# Original ansswer that isn't working in Jupyter for some reason\n",
    "# lengths = []\n",
    "\n",
    "# while True:\n",
    "#     word = input(\"Enter a word: \").strip()\n",
    "    \n",
    "#     if word == \"\":\n",
    "#         break\n",
    "    \n",
    "#     else:\n",
    "#         lengths.append(len(word))\n",
    "        \n",
    "# print(f\"The average length of the words you entered is: {sum(lengths)/len(lengths)}\")\n",
    "\n",
    "# New answer\n",
    "\n",
    "mylist = []\n",
    "lengths = 0\n",
    "\n",
    "while True:\n",
    "    word = input(\"Enter a word: \").strip()\n",
    "    \n",
    "    if word == \"\":\n",
    "        break\n",
    "    \n",
    "    else:\n",
    "        mylist.append(word)\n",
    "        lengths += len(word)\n",
    "        \n",
    "print(f\"The average length of the words you entered is: {lengths/len(mylist)}\")\n"
   ]
  },
  {
   "cell_type": "code",
   "execution_count": 2,
   "metadata": {},
   "outputs": [
    {
     "name": "stdout",
     "output_type": "stream",
     "text": [
      "Enter a word: lake\n",
      "Enter a word: tree\n",
      "Enter a word: car\n",
      "Enter a word: mouse\n",
      "Enter a word: \n",
      "First word is car\n",
      "Last word is tree\n"
     ]
    }
   ],
   "source": [
    "# Exercise 3\n",
    "\n",
    "# Ask the user to enter words, one at a time. When they enter an empty string, stop asking.\n",
    "# Print the first and last words, alphabetically, that the user entered.\n",
    "\n",
    "mylist = []\n",
    "\n",
    "while True:\n",
    "    word = input(\"Enter a word: \").strip()\n",
    "    \n",
    "    if word == \"\":\n",
    "        break\n",
    "    \n",
    "    else:\n",
    "        mylist.append(word)\n",
    "\n",
    "mylist.sort()\n",
    "print(f\"First word is {mylist[0]}\")\n",
    "print(f\"Last word is {mylist[-1]}\")"
   ]
  },
  {
   "cell_type": "code",
   "execution_count": 5,
   "metadata": {},
   "outputs": [
    {
     "data": {
      "text/plain": [
       "30"
      ]
     },
     "execution_count": 5,
     "metadata": {},
     "output_type": "execute_result"
    }
   ],
   "source": [
    "# Remove element based on location\n",
    "# Stacks (or lists) tend to work using LIFO  -- so if you take something out, it removes from the end first \n",
    "\n",
    "mylist = [10, 20, 30, 40, 50, 60]\n",
    "\n",
    "mylist.pop()      # remove + return the element at -1 (aka the end)\n",
    "mylist.pop(2)     # remove + return the element at index 2"
   ]
  },
  {
   "cell_type": "code",
   "execution_count": 8,
   "metadata": {},
   "outputs": [],
   "source": [
    "# Remove an element based on value\n",
    "\n",
    "mylist = [10, 20, 30, 40, 50, 60]\n",
    "\n",
    "mylist.remove(30)  # remove the leftmost item with this value\n"
   ]
  },
  {
   "cell_type": "code",
   "execution_count": 11,
   "metadata": {},
   "outputs": [
    {
     "data": {
      "text/plain": [
       "[10, 20, 30, 40, 50, 60, 70, 80, 90, 100]"
      ]
     },
     "execution_count": 11,
     "metadata": {},
     "output_type": "execute_result"
    }
   ],
   "source": [
    "# Add multiple things to a list\n",
    "\n",
    "mylist = [10, 20, 30, 40]\n",
    "other_stuff = [50, 60, 70]\n",
    "\n",
    "# If you just append (other_stuff) to mylist, it will only add one element, not three (ie it will add \n",
    "#    [50, 60, 70], not [50], [60], [70])\n",
    "\n",
    "# Two ways to add all the elements to the list individually:\n",
    "\n",
    "# 1) Extend: runs a 'for' loop on other_stuff, appending each item to the list\n",
    "mylist.extend(other_stuff)\n",
    "mylist      # prints [10, 20, 30, 40, 50, 60, 70]\n",
    "\n",
    "# 2) += list\n",
    "mylist += [80, 90, 100]\n",
    "mylist      # prints [10, 20, 30, 40, 50, 60, 70, 80, 90, 100]\n"
   ]
  },
  {
   "cell_type": "code",
   "execution_count": 18,
   "metadata": {},
   "outputs": [
    {
     "data": {
      "text/plain": [
       "['a', 'b', 'c', 'e', 'l', 'n', 's', 't', 'u']"
      ]
     },
     "execution_count": 18,
     "metadata": {},
     "output_type": "execute_result"
    }
   ],
   "source": [
    "# If you don't want to sort the elements of a list in situ, don't use the Sort method. \n",
    "# Instead, use the 'Sorted' function:\n",
    "\n",
    "mylist = ['e' ,'n', 's', 'a', 'b', 'u', 'l', 'c', 't']\n",
    "\n",
    "mylist.sort()\n",
    "mylist     # Prints ['a', 'b', 'c', 'e', 'l', 'n', 's', 't', 'u']\n",
    "\n",
    "sorted(mylist)     # Prints ['a', 'b', 'c', 'e', 'l', 'n', 's', 't', 'u'] .... so sorted,\n",
    "mylist             # Prints ['e' ,'n', 's', 'a', 'b', 'u', 'l', 'c', 't'] .... but not changed"
   ]
  },
  {
   "cell_type": "code",
   "execution_count": 27,
   "metadata": {},
   "outputs": [
    {
     "name": "stdout",
     "output_type": "stream",
     "text": [
      "Enter a farm animal: duck\n",
      "Enter a farm animal: cow\n",
      "Enter a farm animal: horse\n",
      "Enter a farm animal: bull\n",
      "Enter a farm animal: mouse\n",
      "Enter a farm animal: rabbit\n",
      "Enter a farm animal: \n",
      "The following words matched our list: ['cow', 'horse', 'mouse', 'rabbit']\n"
     ]
    }
   ],
   "source": [
    "# Homework Problem 1\n",
    "# Create a list containing words (i.e., strings). Ask the user to enter a search string. \n",
    "# Print all of the words in that list containing the user’s input.\n",
    "\n",
    "farm_list = ['cat', 'dog', 'horse', 'cow', 'mouse', 'rabbit', 'donkey']\n",
    "results = []\n",
    "\n",
    "while True:\n",
    "    search = input(\"Enter a farm animal: \").strip()\n",
    "    \n",
    "    if search == \"\":\n",
    "        break\n",
    "    \n",
    "    elif search.lower() in farm_list:\n",
    "        results.append(search)\n",
    "\n",
    "print(f\"The following words matched our list: {results}\")    \n",
    "    "
   ]
  },
  {
   "cell_type": "code",
   "execution_count": 30,
   "metadata": {},
   "outputs": [
    {
     "name": "stdout",
     "output_type": "stream",
     "text": [
      "Enter a string or number: 23\n",
      "Enter a string or number: 87\n",
      "Enter a string or number: 45\n",
      "Enter a string or number: pie\n",
      "Enter a string or number: 64\n",
      "Enter a string or number: turkey\n",
      "Enter a string or number: 12\n",
      "Enter a string or number: 78\n",
      "Enter a string or number: potato360\n",
      "Enter a string or number: \n",
      "Average: 51.5\n",
      "Values below average: [12, 23, 45]\n",
      "Values above average: [64, 78, 87]\n"
     ]
    }
   ],
   "source": [
    "# Homework Problem 2\n",
    "# Create an empty list. Ask the user to enter inputs, one at a time. If the user enters an empty string, \n",
    "# stop asking. If the user enters something that can be turned into an integer, then do so. \n",
    "# After exiting from the loop, print (1) the average value in the list, (2) the values that are below \n",
    "# the average, and (3) the values that are above the average. Note: Don’t use the sum function here; \n",
    "# I want you to get even more practice with loops!\n",
    "\n",
    "integers = []\n",
    "total = 0\n",
    "\n",
    "while True:\n",
    "    user_input = input(\"Enter a string or number: \").strip()\n",
    "    \n",
    "    if user_input == \"\":\n",
    "        break\n",
    "    \n",
    "    elif user_input.isdigit():\n",
    "        integers.append(int(user_input))\n",
    "        total += int(user_input)\n",
    "        \n",
    "average = total / len(integers)\n",
    "\n",
    "below = []\n",
    "above = []\n",
    "\n",
    "for one_integer in integers:\n",
    "    if one_integer < average:\n",
    "        below.append(one_integer)\n",
    "    elif one_integer > average:\n",
    "        above.append(one_integer)\n",
    "    elif one_integer == average:\n",
    "        print(\"Eureka!\")\n",
    "\n",
    "print(f\"Average: {average}\")\n",
    "print(f\"Values below average: {sorted(below)}\")\n",
    "print(f\"Values above average: {sorted(above)}\")\n",
    "        "
   ]
  },
  {
   "cell_type": "code",
   "execution_count": 4,
   "metadata": {},
   "outputs": [
    {
     "name": "stdout",
     "output_type": "stream",
     "text": [
      "Enter a sentence: Assumptions in Costing and Funding Model\n",
      "Enter a letter: a\n",
      "Enter a second letter: f\n",
      "First letter was found 2 times in the sentence\n",
      "Second letter was found 1 times in the sentence\n"
     ]
    }
   ],
   "source": [
    "# Homework Problem 3\n",
    "# Ask the user to enter a string. Then ask the user to enter two search strings. Print how many times \n",
    "# each of the search strings appears in the user’s input string. So if the string is this is a test and the \n",
    "# search strings are i and s, then the program should say that i was found 2 times and s was found 3 times.\n",
    "\n",
    "user_input = input(\"Enter a sentence: \").strip()\n",
    "search1 = input(\"Enter a letter: \").strip()\n",
    "search2 = input(\"Enter a second letter: \").strip()\n",
    "\n",
    "count1 = 0\n",
    "count2 = 0\n",
    "\n",
    "for one_letter in user_input.lower():\n",
    "    if one_letter == \" \":\n",
    "        continue\n",
    "    \n",
    "    if one_letter == search1.lower():\n",
    "        count1 += 1\n",
    "    \n",
    "    if one_letter == search2.lower():\n",
    "        count2 += 1\n",
    "        \n",
    "print(f\"First letter was found {count1} times in the sentence\")\n",
    "print(f\"Second letter was found {count2} times in the sentence\")"
   ]
  },
  {
   "cell_type": "code",
   "execution_count": null,
   "metadata": {},
   "outputs": [],
   "source": []
  }
 ],
 "metadata": {
  "kernelspec": {
   "display_name": "Python 3",
   "language": "python",
   "name": "python3"
  },
  "language_info": {
   "codemirror_mode": {
    "name": "ipython",
    "version": 3
   },
   "file_extension": ".py",
   "mimetype": "text/x-python",
   "name": "python",
   "nbconvert_exporter": "python",
   "pygments_lexer": "ipython3",
   "version": "3.8.3"
  }
 },
 "nbformat": 4,
 "nbformat_minor": 4
}
